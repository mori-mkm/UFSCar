{
  "nbformat": 4,
  "nbformat_minor": 0,
  "metadata": {
    "colab": {
      "name": "Exemplo ANOVA com dois fatores.ipynb",
      "provenance": [],
      "authorship_tag": "ABX9TyO1J06hESPsecgeI9xNq0bc",
      "include_colab_link": true
    },
    "kernelspec": {
      "name": "python3",
      "display_name": "Python 3"
    },
    "language_info": {
      "name": "python"
    }
  },
  "cells": [
    {
      "cell_type": "markdown",
      "metadata": {
        "id": "view-in-github",
        "colab_type": "text"
      },
      "source": [
        "<a href=\"https://colab.research.google.com/github/mori-mkm/UFSCar/blob/main/Exemplo_ANOVA_com_dois_fatores.ipynb\" target=\"_parent\"><img src=\"https://colab.research.google.com/assets/colab-badge.svg\" alt=\"Open In Colab\"/></a>"
      ]
    },
    {
      "cell_type": "markdown",
      "metadata": {
        "id": "CCUs4zcQa4Mu"
      },
      "source": [
        "# Exemplo: ANOVA com duas fatores em Python"
      ]
    },
    {
      "cell_type": "markdown",
      "metadata": {
        "id": "Bga3Omh0a4zm"
      },
      "source": [
        "Um botânico quer saber se o crescimento das plantas é ou não influenciado pela exposição ao sol e pela frequência de rega. Ela planta 30 sementes e as deixa crescer por dois meses em diferentes condições de exposição ao sol e frequência de rega. Depois de dois meses, ela registra a altura de cada planta, em centímetros.\n",
        "\n",
        "Use as etapas a seguir para realizar uma ANOVA bidirecional para determinar se a frequência de irrigação e a exposição à luz solar têm um efeito significativo no crescimento da planta e para determinar se há algum efeito de interação entre a frequência de irrigação e a exposição à luz solar."
      ]
    },
    {
      "cell_type": "markdown",
      "metadata": {
        "id": "7CqHI4S2bGeO"
      },
      "source": [
        "## Importando as bibliotecas"
      ]
    },
    {
      "cell_type": "code",
      "metadata": {
        "colab": {
          "base_uri": "https://localhost:8080/"
        },
        "id": "cm3N9b5IakXe",
        "outputId": "668a9990-a9e8-4a83-a5b0-8e5f5ed16218"
      },
      "source": [
        "import numpy as np\n",
        "import pandas as pd\n",
        "import statsmodels.api as sm\n",
        "from statsmodels.formula.api import ols"
      ],
      "execution_count": 4,
      "outputs": [
        {
          "output_type": "stream",
          "name": "stderr",
          "text": [
            "/usr/local/lib/python3.7/dist-packages/statsmodels/tools/_testing.py:19: FutureWarning: pandas.util.testing is deprecated. Use the functions in the public API at pandas.testing instead.\n",
            "  import pandas.util.testing as tm\n"
          ]
        }
      ]
    },
    {
      "cell_type": "markdown",
      "metadata": {
        "id": "T-uOFX_zbJ6f"
      },
      "source": [
        "## Criando o banco de dados"
      ]
    },
    {
      "cell_type": "markdown",
      "metadata": {
        "id": "o6BclMqdbPAa"
      },
      "source": [
        "Primeiro, criaremos um DataFrame com o pandas que contém as três variáveis a seguir:\n",
        "\n",
        "* agua: com que frequência cada planta foi regada: diariamente ou semanalmente\n",
        "\n",
        "* sol: quanta exposição ao sol cada planta recebeu: baixa, média ou alta\n",
        "\n",
        "* altura: a altura de cada planta (em polegadas) após dois meses"
      ]
    },
    {
      "cell_type": "code",
      "metadata": {
        "colab": {
          "base_uri": "https://localhost:8080/",
          "height": 355
        },
        "id": "kq6XzZ9HanHK",
        "outputId": "f17b3d0b-7a5c-4383-8fea-2b5a0ca9768b"
      },
      "source": [
        "#criando o banco de dados\n",
        "df = pd.DataFrame({'water': np.repeat(['daily', 'weekly'], 15),\n",
        "                   'sun': np.tile(np.repeat(['low', 'med', 'high'], 5), 2),\n",
        "                   'height': [6, 6, 6, 5, 6, 5, 5, 6, 4, 5,\n",
        "                              6, 6, 7, 8, 7, 3, 4, 4, 4, 5,\n",
        "                              4, 4, 4, 4, 4, 5, 6, 6, 7, 8]})\n",
        "\n",
        "#visualizando o banco de dados criado\n",
        "df[:10]"
      ],
      "execution_count": 6,
      "outputs": [
        {
          "output_type": "execute_result",
          "data": {
            "text/html": [
              "<div>\n",
              "<style scoped>\n",
              "    .dataframe tbody tr th:only-of-type {\n",
              "        vertical-align: middle;\n",
              "    }\n",
              "\n",
              "    .dataframe tbody tr th {\n",
              "        vertical-align: top;\n",
              "    }\n",
              "\n",
              "    .dataframe thead th {\n",
              "        text-align: right;\n",
              "    }\n",
              "</style>\n",
              "<table border=\"1\" class=\"dataframe\">\n",
              "  <thead>\n",
              "    <tr style=\"text-align: right;\">\n",
              "      <th></th>\n",
              "      <th>water</th>\n",
              "      <th>sun</th>\n",
              "      <th>height</th>\n",
              "    </tr>\n",
              "  </thead>\n",
              "  <tbody>\n",
              "    <tr>\n",
              "      <th>0</th>\n",
              "      <td>daily</td>\n",
              "      <td>low</td>\n",
              "      <td>6</td>\n",
              "    </tr>\n",
              "    <tr>\n",
              "      <th>1</th>\n",
              "      <td>daily</td>\n",
              "      <td>low</td>\n",
              "      <td>6</td>\n",
              "    </tr>\n",
              "    <tr>\n",
              "      <th>2</th>\n",
              "      <td>daily</td>\n",
              "      <td>low</td>\n",
              "      <td>6</td>\n",
              "    </tr>\n",
              "    <tr>\n",
              "      <th>3</th>\n",
              "      <td>daily</td>\n",
              "      <td>low</td>\n",
              "      <td>5</td>\n",
              "    </tr>\n",
              "    <tr>\n",
              "      <th>4</th>\n",
              "      <td>daily</td>\n",
              "      <td>low</td>\n",
              "      <td>6</td>\n",
              "    </tr>\n",
              "    <tr>\n",
              "      <th>5</th>\n",
              "      <td>daily</td>\n",
              "      <td>med</td>\n",
              "      <td>5</td>\n",
              "    </tr>\n",
              "    <tr>\n",
              "      <th>6</th>\n",
              "      <td>daily</td>\n",
              "      <td>med</td>\n",
              "      <td>5</td>\n",
              "    </tr>\n",
              "    <tr>\n",
              "      <th>7</th>\n",
              "      <td>daily</td>\n",
              "      <td>med</td>\n",
              "      <td>6</td>\n",
              "    </tr>\n",
              "    <tr>\n",
              "      <th>8</th>\n",
              "      <td>daily</td>\n",
              "      <td>med</td>\n",
              "      <td>4</td>\n",
              "    </tr>\n",
              "    <tr>\n",
              "      <th>9</th>\n",
              "      <td>daily</td>\n",
              "      <td>med</td>\n",
              "      <td>5</td>\n",
              "    </tr>\n",
              "  </tbody>\n",
              "</table>\n",
              "</div>"
            ],
            "text/plain": [
              "   water  sun  height\n",
              "0  daily  low       6\n",
              "1  daily  low       6\n",
              "2  daily  low       6\n",
              "3  daily  low       5\n",
              "4  daily  low       6\n",
              "5  daily  med       5\n",
              "6  daily  med       5\n",
              "7  daily  med       6\n",
              "8  daily  med       4\n",
              "9  daily  med       5"
            ]
          },
          "metadata": {},
          "execution_count": 6
        }
      ]
    },
    {
      "cell_type": "markdown",
      "metadata": {
        "id": "xRpKMInYb0VQ"
      },
      "source": [
        "## Modelo ANOVA"
      ]
    },
    {
      "cell_type": "markdown",
      "metadata": {
        "id": "wWORkGmAbw--"
      },
      "source": [
        "\n",
        "A seguir, vamos realizar a ANOVA com dois fatores usando a função **anova_lm()** da biblioteca **statsmodels**:"
      ]
    },
    {
      "cell_type": "code",
      "metadata": {
        "colab": {
          "base_uri": "https://localhost:8080/",
          "height": 171
        },
        "id": "RVwf5kp1bsIc",
        "outputId": "8222ab3f-be63-44ca-b210-dabb6571c82f"
      },
      "source": [
        "#rodando ANOVA para dois fatores\n",
        "model = ols('height ~ C(water) + C(sun) + C(water):C(sun)', data=df).fit()\n",
        "sm.stats.anova_lm(model, typ=2)"
      ],
      "execution_count": 7,
      "outputs": [
        {
          "output_type": "execute_result",
          "data": {
            "text/html": [
              "<div>\n",
              "<style scoped>\n",
              "    .dataframe tbody tr th:only-of-type {\n",
              "        vertical-align: middle;\n",
              "    }\n",
              "\n",
              "    .dataframe tbody tr th {\n",
              "        vertical-align: top;\n",
              "    }\n",
              "\n",
              "    .dataframe thead th {\n",
              "        text-align: right;\n",
              "    }\n",
              "</style>\n",
              "<table border=\"1\" class=\"dataframe\">\n",
              "  <thead>\n",
              "    <tr style=\"text-align: right;\">\n",
              "      <th></th>\n",
              "      <th>sum_sq</th>\n",
              "      <th>df</th>\n",
              "      <th>F</th>\n",
              "      <th>PR(&gt;F)</th>\n",
              "    </tr>\n",
              "  </thead>\n",
              "  <tbody>\n",
              "    <tr>\n",
              "      <th>C(water)</th>\n",
              "      <td>8.533333</td>\n",
              "      <td>1.0</td>\n",
              "      <td>16.0000</td>\n",
              "      <td>0.000527</td>\n",
              "    </tr>\n",
              "    <tr>\n",
              "      <th>C(sun)</th>\n",
              "      <td>24.866667</td>\n",
              "      <td>2.0</td>\n",
              "      <td>23.3125</td>\n",
              "      <td>0.000002</td>\n",
              "    </tr>\n",
              "    <tr>\n",
              "      <th>C(water):C(sun)</th>\n",
              "      <td>2.466667</td>\n",
              "      <td>2.0</td>\n",
              "      <td>2.3125</td>\n",
              "      <td>0.120667</td>\n",
              "    </tr>\n",
              "    <tr>\n",
              "      <th>Residual</th>\n",
              "      <td>12.800000</td>\n",
              "      <td>24.0</td>\n",
              "      <td>NaN</td>\n",
              "      <td>NaN</td>\n",
              "    </tr>\n",
              "  </tbody>\n",
              "</table>\n",
              "</div>"
            ],
            "text/plain": [
              "                    sum_sq    df        F    PR(>F)\n",
              "C(water)          8.533333   1.0  16.0000  0.000527\n",
              "C(sun)           24.866667   2.0  23.3125  0.000002\n",
              "C(water):C(sun)   2.466667   2.0   2.3125  0.120667\n",
              "Residual         12.800000  24.0      NaN       NaN"
            ]
          },
          "metadata": {},
          "execution_count": 7
        }
      ]
    },
    {
      "cell_type": "markdown",
      "metadata": {
        "id": "sNyqEqvYcbjP"
      },
      "source": [
        "## Interpretação do modelo"
      ]
    },
    {
      "cell_type": "markdown",
      "metadata": {
        "id": "ddIYz6lLckGV"
      },
      "source": [
        "Perceba que temos os seguintes valores de p para cada um dos fatores da tabela acima:\n",
        "\n",
        "* water: valor p = 0,000527\n",
        "\n",
        "* sun: valor p = 0,00002\n",
        "\n",
        "* water x sun: valor p = 0,120667\n",
        "\n",
        "> Como os valores p para water e sun são menores que 0,05, isso significa que ambos os fatores têm um efeito estatisticamente significativo na altura da planta.\n",
        "\n",
        "\n",
        "> E uma vez que o valor p para o efeito de interação (0,120667) não é inferior a 0,05, isso nos diz que não há efeito de interação significativo entre a exposição à luz solar e a frequência de rega.\n",
        "\n",
        "Nota: Embora os resultados da ANOVA nos digam que a frequência de rega e a exposição à luz solar têm um efeito estatisticamente significativo na altura das plantas, precisaríamos realizar testes post-hoc para determinar exatamente como os diferentes níveis de água e luz solar afetam a altura das plantas."
      ]
    }
  ]
}