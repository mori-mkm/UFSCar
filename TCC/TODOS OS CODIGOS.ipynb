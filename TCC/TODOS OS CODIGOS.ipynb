{
 "cells": [
  {
   "cell_type": "markdown",
   "metadata": {},
   "source": [
    "# Importação de bibliotecas"
   ]
  },
  {
   "cell_type": "code",
   "execution_count": 1,
   "metadata": {},
   "outputs": [],
   "source": [
    "import pandas as pd\n",
    "import numpy as np\n",
    "import datetime as dt\n",
    "import glob"
   ]
  },
  {
   "cell_type": "markdown",
   "metadata": {},
   "source": [
    "# Importação de dados"
   ]
  },
  {
   "cell_type": "code",
   "execution_count": 2,
   "metadata": {},
   "outputs": [],
   "source": [
    "df_automatica = pd.read_csv('CatalogoEstaçõesAutomáticas.csv',sep=\";\", decimal=\",\")\n",
    "df_automatica['type'] = \"automatica\"\n",
    "df_convencionl = pd.read_csv('CatalogoEstaçõesConvencionais.csv', sep=\";\", decimal=\",\")\n",
    "df_convencionl['type'] = \"convencinal\"\n"
   ]
  },
  {
   "cell_type": "code",
   "execution_count": 3,
   "metadata": {},
   "outputs": [
    {
     "data": {
      "text/html": [
       "<div>\n",
       "<style scoped>\n",
       "    .dataframe tbody tr th:only-of-type {\n",
       "        vertical-align: middle;\n",
       "    }\n",
       "\n",
       "    .dataframe tbody tr th {\n",
       "        vertical-align: top;\n",
       "    }\n",
       "\n",
       "    .dataframe thead th {\n",
       "        text-align: right;\n",
       "    }\n",
       "</style>\n",
       "<table border=\"1\" class=\"dataframe\">\n",
       "  <thead>\n",
       "    <tr style=\"text-align: right;\">\n",
       "      <th></th>\n",
       "      <th>DC_NOME</th>\n",
       "      <th>SG_ESTADO</th>\n",
       "      <th>CD_SITUACAO</th>\n",
       "      <th>VL_LATITUDE</th>\n",
       "      <th>VL_LONGITUDE</th>\n",
       "      <th>VL_ALTITUDE</th>\n",
       "      <th>DT_INICIO_OPERACAO</th>\n",
       "      <th>CD_ESTACAO</th>\n",
       "      <th>type</th>\n",
       "    </tr>\n",
       "  </thead>\n",
       "  <tbody>\n",
       "    <tr>\n",
       "      <th>0</th>\n",
       "      <td>AGUA BRANCA</td>\n",
       "      <td>AL</td>\n",
       "      <td>Operante</td>\n",
       "      <td>-9.264722</td>\n",
       "      <td>-37.938056</td>\n",
       "      <td>603.42</td>\n",
       "      <td>04/05/1928</td>\n",
       "      <td>82989</td>\n",
       "      <td>convencinal</td>\n",
       "    </tr>\n",
       "    <tr>\n",
       "      <th>1</th>\n",
       "      <td>ALTO DA BOA VISTA</td>\n",
       "      <td>RJ</td>\n",
       "      <td>Operante</td>\n",
       "      <td>-22.965833</td>\n",
       "      <td>-43.279167</td>\n",
       "      <td>347.10</td>\n",
       "      <td>31/05/1966</td>\n",
       "      <td>83007</td>\n",
       "      <td>convencinal</td>\n",
       "    </tr>\n",
       "    <tr>\n",
       "      <th>2</th>\n",
       "      <td>APODI</td>\n",
       "      <td>RN</td>\n",
       "      <td>Operante</td>\n",
       "      <td>-5.626667</td>\n",
       "      <td>-37.815000</td>\n",
       "      <td>131.37</td>\n",
       "      <td>17/12/1962</td>\n",
       "      <td>82590</td>\n",
       "      <td>convencinal</td>\n",
       "    </tr>\n",
       "    <tr>\n",
       "      <th>3</th>\n",
       "      <td>ARACUAI</td>\n",
       "      <td>MG</td>\n",
       "      <td>Operante</td>\n",
       "      <td>-16.848889</td>\n",
       "      <td>-42.060833</td>\n",
       "      <td>317.67</td>\n",
       "      <td>05/09/1918</td>\n",
       "      <td>83442</td>\n",
       "      <td>convencinal</td>\n",
       "    </tr>\n",
       "    <tr>\n",
       "      <th>4</th>\n",
       "      <td>ARAGARCAS</td>\n",
       "      <td>GO</td>\n",
       "      <td>Operante</td>\n",
       "      <td>-15.902500</td>\n",
       "      <td>-52.245278</td>\n",
       "      <td>327.03</td>\n",
       "      <td>18/07/1970</td>\n",
       "      <td>83368</td>\n",
       "      <td>convencinal</td>\n",
       "    </tr>\n",
       "    <tr>\n",
       "      <th>...</th>\n",
       "      <td>...</td>\n",
       "      <td>...</td>\n",
       "      <td>...</td>\n",
       "      <td>...</td>\n",
       "      <td>...</td>\n",
       "      <td>...</td>\n",
       "      <td>...</td>\n",
       "      <td>...</td>\n",
       "      <td>...</td>\n",
       "    </tr>\n",
       "    <tr>\n",
       "      <th>734</th>\n",
       "      <td>VITORIA DA CONQUISTA</td>\n",
       "      <td>BA</td>\n",
       "      <td>Operante</td>\n",
       "      <td>-14.886389</td>\n",
       "      <td>-40.801389</td>\n",
       "      <td>879.38</td>\n",
       "      <td>31/05/2007</td>\n",
       "      <td>A414</td>\n",
       "      <td>automatica</td>\n",
       "    </tr>\n",
       "    <tr>\n",
       "      <th>735</th>\n",
       "      <td>VOTUPORANGA</td>\n",
       "      <td>SP</td>\n",
       "      <td>Operante</td>\n",
       "      <td>-20.403333</td>\n",
       "      <td>-49.966111</td>\n",
       "      <td>510.37</td>\n",
       "      <td>03/12/2006</td>\n",
       "      <td>A729</td>\n",
       "      <td>automatica</td>\n",
       "    </tr>\n",
       "    <tr>\n",
       "      <th>736</th>\n",
       "      <td>XANXERE</td>\n",
       "      <td>SC</td>\n",
       "      <td>Operante</td>\n",
       "      <td>-26.938666</td>\n",
       "      <td>-52.398090</td>\n",
       "      <td>878.74</td>\n",
       "      <td>14/03/2008</td>\n",
       "      <td>A858</td>\n",
       "      <td>automatica</td>\n",
       "    </tr>\n",
       "    <tr>\n",
       "      <th>737</th>\n",
       "      <td>XINGUARA</td>\n",
       "      <td>PA</td>\n",
       "      <td>Operante</td>\n",
       "      <td>-7.110518</td>\n",
       "      <td>-49.926072</td>\n",
       "      <td>245.00</td>\n",
       "      <td>10/09/2016</td>\n",
       "      <td>A247</td>\n",
       "      <td>automatica</td>\n",
       "    </tr>\n",
       "    <tr>\n",
       "      <th>738</th>\n",
       "      <td>ZE DOCA</td>\n",
       "      <td>MA</td>\n",
       "      <td>Operante</td>\n",
       "      <td>-3.269167</td>\n",
       "      <td>-45.651111</td>\n",
       "      <td>45.50</td>\n",
       "      <td>17/09/2019</td>\n",
       "      <td>A255</td>\n",
       "      <td>automatica</td>\n",
       "    </tr>\n",
       "  </tbody>\n",
       "</table>\n",
       "<p>739 rows × 9 columns</p>\n",
       "</div>"
      ],
      "text/plain": [
       "                  DC_NOME SG_ESTADO CD_SITUACAO  VL_LATITUDE  VL_LONGITUDE  \\\n",
       "0             AGUA BRANCA        AL    Operante    -9.264722    -37.938056   \n",
       "1       ALTO DA BOA VISTA        RJ    Operante   -22.965833    -43.279167   \n",
       "2                   APODI        RN    Operante    -5.626667    -37.815000   \n",
       "3                 ARACUAI        MG    Operante   -16.848889    -42.060833   \n",
       "4               ARAGARCAS        GO    Operante   -15.902500    -52.245278   \n",
       "..                    ...       ...         ...          ...           ...   \n",
       "734  VITORIA DA CONQUISTA        BA    Operante   -14.886389    -40.801389   \n",
       "735           VOTUPORANGA        SP    Operante   -20.403333    -49.966111   \n",
       "736               XANXERE        SC    Operante   -26.938666    -52.398090   \n",
       "737              XINGUARA        PA    Operante    -7.110518    -49.926072   \n",
       "738               ZE DOCA        MA    Operante    -3.269167    -45.651111   \n",
       "\n",
       "     VL_ALTITUDE DT_INICIO_OPERACAO CD_ESTACAO         type  \n",
       "0         603.42         04/05/1928      82989  convencinal  \n",
       "1         347.10         31/05/1966      83007  convencinal  \n",
       "2         131.37         17/12/1962      82590  convencinal  \n",
       "3         317.67         05/09/1918      83442  convencinal  \n",
       "4         327.03         18/07/1970      83368  convencinal  \n",
       "..           ...                ...        ...          ...  \n",
       "734       879.38         31/05/2007       A414   automatica  \n",
       "735       510.37         03/12/2006       A729   automatica  \n",
       "736       878.74         14/03/2008       A858   automatica  \n",
       "737       245.00         10/09/2016       A247   automatica  \n",
       "738        45.50         17/09/2019       A255   automatica  \n",
       "\n",
       "[739 rows x 9 columns]"
      ]
     },
     "execution_count": 3,
     "metadata": {},
     "output_type": "execute_result"
    }
   ],
   "source": [
    "df_estacao = pd.concat([df_convencionl, df_automatica], ignore_index=True, sort=False)\n",
    "df_estacao"
   ]
  },
  {
   "cell_type": "code",
   "execution_count": 4,
   "metadata": {},
   "outputs": [],
   "source": [
    "df_estacao.DT_INICIO_OPERACAO = pd.to_datetime(df_estacao.DT_INICIO_OPERACAO)"
   ]
  },
  {
   "cell_type": "code",
   "execution_count": 5,
   "metadata": {},
   "outputs": [
    {
     "name": "stdout",
     "output_type": "stream",
     "text": [
      "<class 'pandas.core.frame.DataFrame'>\n",
      "RangeIndex: 739 entries, 0 to 738\n",
      "Data columns (total 9 columns):\n",
      " #   Column              Non-Null Count  Dtype         \n",
      "---  ------              --------------  -----         \n",
      " 0   DC_NOME             739 non-null    object        \n",
      " 1   SG_ESTADO           739 non-null    object        \n",
      " 2   CD_SITUACAO         739 non-null    object        \n",
      " 3   VL_LATITUDE         739 non-null    float64       \n",
      " 4   VL_LONGITUDE        739 non-null    float64       \n",
      " 5   VL_ALTITUDE         739 non-null    float64       \n",
      " 6   DT_INICIO_OPERACAO  739 non-null    datetime64[ns]\n",
      " 7   CD_ESTACAO          739 non-null    object        \n",
      " 8   type                739 non-null    object        \n",
      "dtypes: datetime64[ns](1), float64(3), object(5)\n",
      "memory usage: 52.1+ KB\n"
     ]
    }
   ],
   "source": [
    "df_estacao.info()"
   ]
  },
  {
   "cell_type": "markdown",
   "metadata": {},
   "source": [
    "# Algumas informações sobre as estações"
   ]
  },
  {
   "cell_type": "code",
   "execution_count": 6,
   "metadata": {},
   "outputs": [
    {
     "data": {
      "text/plain": [
       "739"
      ]
     },
     "execution_count": 6,
     "metadata": {},
     "output_type": "execute_result"
    }
   ],
   "source": [
    "# Total de estações\n",
    "len(df_estacao)"
   ]
  },
  {
   "cell_type": "code",
   "execution_count": 7,
   "metadata": {},
   "outputs": [
    {
     "data": {
      "text/plain": [
       "Operante    536\n",
       "Pane        203\n",
       "Name: CD_SITUACAO, dtype: int64"
      ]
     },
     "execution_count": 7,
     "metadata": {},
     "output_type": "execute_result"
    }
   ],
   "source": [
    "# Total de estações vs status\n",
    "df_estacao.CD_SITUACAO.value_counts()"
   ]
  },
  {
   "cell_type": "code",
   "execution_count": 8,
   "metadata": {},
   "outputs": [
    {
     "data": {
      "text/plain": [
       "automatica     368\n",
       "convencinal    168\n",
       "Name: type, dtype: int64"
      ]
     },
     "execution_count": 8,
     "metadata": {},
     "output_type": "execute_result"
    }
   ],
   "source": [
    "# Total de estações operantes vs o tipo\n",
    "df_est_op = df_estacao[df_estacao.CD_SITUACAO == 'Operante' ]\n",
    "df_est_op.type.value_counts()\n",
    "df_est_op.type.value_counts()"
   ]
  },
  {
   "cell_type": "code",
   "execution_count": 9,
   "metadata": {},
   "outputs": [
    {
     "data": {
      "text/html": [
       "<div>\n",
       "<style scoped>\n",
       "    .dataframe tbody tr th:only-of-type {\n",
       "        vertical-align: middle;\n",
       "    }\n",
       "\n",
       "    .dataframe tbody tr th {\n",
       "        vertical-align: top;\n",
       "    }\n",
       "\n",
       "    .dataframe thead th {\n",
       "        text-align: right;\n",
       "    }\n",
       "</style>\n",
       "<table border=\"1\" class=\"dataframe\">\n",
       "  <thead>\n",
       "    <tr style=\"text-align: right;\">\n",
       "      <th>type</th>\n",
       "      <th>automatica</th>\n",
       "      <th>convencinal</th>\n",
       "    </tr>\n",
       "    <tr>\n",
       "      <th>CD_SITUACAO</th>\n",
       "      <th></th>\n",
       "      <th></th>\n",
       "    </tr>\n",
       "  </thead>\n",
       "  <tbody>\n",
       "    <tr>\n",
       "      <th>Operante</th>\n",
       "      <td>368.0</td>\n",
       "      <td>168.0</td>\n",
       "    </tr>\n",
       "    <tr>\n",
       "      <th>Pane</th>\n",
       "      <td>203.0</td>\n",
       "      <td>NaN</td>\n",
       "    </tr>\n",
       "  </tbody>\n",
       "</table>\n",
       "</div>"
      ],
      "text/plain": [
       "type         automatica  convencinal\n",
       "CD_SITUACAO                         \n",
       "Operante          368.0        168.0\n",
       "Pane              203.0          NaN"
      ]
     },
     "execution_count": 9,
     "metadata": {},
     "output_type": "execute_result"
    }
   ],
   "source": [
    "# Quantidade de estações pelo tipo e status\n",
    "pivot_est = pd.pivot_table(df_estacao, values='DC_NOME', index=['CD_SITUACAO'],columns=['type'], aggfunc=len)\n",
    "pivot_est"
   ]
  },
  {
   "cell_type": "code",
   "execution_count": 10,
   "metadata": {},
   "outputs": [],
   "source": [
    "import csv"
   ]
  },
  {
   "cell_type": "markdown",
   "metadata": {},
   "source": [
    "# Importando dados do INMET"
   ]
  },
  {
   "cell_type": "code",
   "execution_count": 14,
   "metadata": {},
   "outputs": [],
   "source": [
    "import csv\n",
    "import pandas as pd\n",
    "import numpy as np\n",
    "import datetime as dt\n",
    "import glob\n",
    "# Importando todos os CSVs \n",
    "anos = range(2000,2021)\n",
    "\n",
    "# Coletando todos os nomes e caminhos dos arquivos em CSV das séries\n",
    "csv_lista = []\n",
    "for i in anos:\n",
    "    csv_lista.append(glob.glob(\"C:/Users/MKM/OneDrive/Área de Trabalho/EAD 2021/TCC/dados/{}/*.csv\".format(i)))\n",
    "lista_csv = [item for sublist in csv_lista for item in sublist]\n"
   ]
  },
  {
   "cell_type": "code",
   "execution_count": 23,
   "metadata": {},
   "outputs": [],
   "source": [
    "# coletando um unico csv para capturar os nomes de suas colunas\n",
    "series_df_aleatorio = pd.read_csv(lista_csv[300],  encoding='latin-1', sep =';', header = 8, decimal = ',')\n",
    "coluns_names = [var.replace(\" \", \"_\").replace(\",\", \"\").replace(\":\", \"\").replace(\".\", \"\").replace(\"ÇÃO\",\"cao\").replace(\"°\",\"\").replace(\"²\",\"\").lower() for var in series_df_aleatorio.columns]\n"
   ]
  },
  {
   "cell_type": "code",
   "execution_count": 25,
   "metadata": {},
   "outputs": [],
   "source": [
    "# Criando uma lista com os dataframes de cada estação e ano\n",
    "df_series = []\n",
    "for u in range(len(lista_csv)):\n",
    "    try:\n",
    "        series_df = pd.read_csv(lista_csv[u],  encoding='latin-1', sep =';', header = 8, decimal = ',')\n",
    "        series_df.columns = coluns_names\n",
    "        series_df.drop(columns = ['hora_(utc)'])\n",
    "        df_series.append(series_df)\n",
    "    except:\n",
    "        pass"
   ]
  },
  {
   "cell_type": "code",
   "execution_count": 26,
   "metadata": {},
   "outputs": [],
   "source": [
    "#Coletando as primeiras 8 linhas de cada arquivo csv, pois temos metadados da estação nestas linhas\n",
    "df_meta_data = []\n",
    "for y in range(len(lista_csv)):\n",
    "    with open(lista_csv[y],'r', encoding='latin-1') as fd:\n",
    "        reader=csv.reader(fd)\n",
    "        rows = list(reader)\n",
    "    # Para cada csv criamos um dataframe de das 8 primeiras linhas\n",
    "    meta_data = []\n",
    "    for j in range(0,8):\n",
    "        meta_data.append(rows[j][0].split(';'))\n",
    "    df_meta_data.append(pd.DataFrame(meta_data, columns=['metricas','resultados']))\n"
   ]
  },
  {
   "cell_type": "code",
   "execution_count": 28,
   "metadata": {},
   "outputs": [],
   "source": [
    "# Agora retiramos apenas os valores de cada variavel dos metadados e colocamos em uma lista\n",
    "for p in range(len(df_meta_data)):\n",
    "    df_meta_data[p] = df_meta_data[p].resultados\n",
    "    \n",
    "# Aqui estamos criando tres colunas em cada dataframe de dados de uma estação por cada ano com a sigla do seu estados_df estado, cidade e o id da estação\n",
    "for e in range(len(df_series)):\n",
    "    df_series[e]['estado'] = df_meta_data[e][1]\n",
    "    df_series[e]['cidade'] = df_meta_data[e][2]\n",
    "    df_series[e]['estacao_id'] = df_meta_data[e][3]\n",
    "\n",
    "coluns_names = coluns_names + ['estado', 'cidade', 'estacao_id']\n",
    "coluns_names.remove('hora_(utc)') "
   ]
  },
  {
   "cell_type": "code",
   "execution_count": 30,
   "metadata": {},
   "outputs": [],
   "source": [
    "\n",
    "# Neste looping estamos coletando todas as siglas de estados que temos nos dataframes\n",
    "estados = []\n",
    "for q in range(len(df_meta_data)):\n",
    "    estados.append(df_meta_data[q][1])\n",
    "estados = list(set(estados))\n",
    "estados.sort()\n",
    "\n",
    "\n",
    "# Mas neste outro processo estamos coletando qual é a sigla do estado e o index dela na lista de dataframes\n",
    "estados_df = pd.DataFrame(index=np.arange(len(df_series)) , columns = ['estados', 'indice', 'id_estacao'])\n",
    "for w in range(len(df_series)):\n",
    "    estados_df['estados'].iloc[w] = df_series[w]['estado'].iloc[0]\n",
    "    estados_df['indice'].iloc[w] = w\n",
    "    estados_df['id_estacao'].iloc[w] = df_series[w]['estacao_id'].iloc[0]\n"
   ]
  },
  {
   "cell_type": "code",
   "execution_count": 33,
   "metadata": {},
   "outputs": [],
   "source": [
    "# Criando uma lista de dataframes por estado, onde todos os dados de todas as estações por estado se encontram em cada casa da lista\n",
    "df_series_state = []\n",
    "for x in range(len(estados)):\n",
    "    df_series_state.append(pd.concat([df_series[l] for l in estados_df[estados_df.estados == estados[x]].indice.to_list()], names =coluns_names ))\n",
    "    \n",
    "# Transformando as data de cada dataframe em datetime. Além de criar para cada estado um dataframe com a média de temperatura entre as suas respectivas estações por dia \n",
    "for k in range(len(df_series_state)):\n",
    "    df_series_state[k]['data_(yyyy-mm-dd)'] = df_series_state[k]['data_(yyyy-mm-dd)'].replace(regex='/', value = '-')\n",
    "    df_series_state[k]['data_(yyyy-mm-dd)'] = pd.to_datetime(df_series_state[k]['data_(yyyy-mm-dd)'], format = '%Y-%m-%d')\n",
    "    df_series_state[k] = df_series_state[k].replace(-9999, np.nan)\n",
    "    df_series_state[k] = df_series_state[k].groupby('data_(yyyy-mm-dd)').mean().sort_values(by = ['data_(yyyy-mm-dd)'], ascending=True)\n",
    "    df_series_state[k] = df_series_state[k].drop(columns = ['unnamed_19'])\n"
   ]
  },
  {
   "cell_type": "code",
   "execution_count": 35,
   "metadata": {},
   "outputs": [],
   "source": [
    "for t in range(len(df_series_state)):\n",
    "    df_series_state[t].to_csv('C:/Users/MKM/OneDrive/Área de Trabalho/EAD 2021/TCC/dados_agregados/inmet_{}.csv'.format(estados[t]), index=True)"
   ]
  },
  {
   "cell_type": "markdown",
   "metadata": {},
   "source": [
    "# Limpeza dos bancos de dados"
   ]
  },
  {
   "cell_type": "code",
   "execution_count": null,
   "metadata": {},
   "outputs": [],
   "source": [
    "import plotly.express as px\n",
    "import matplotlib.pyplot as plt"
   ]
  },
  {
   "cell_type": "code",
   "execution_count": null,
   "metadata": {},
   "outputs": [
    {
     "data": {
      "text/plain": [
       "<AxesSubplot:xlabel='data_(yyyy-mm-dd)'>"
      ]
     },
     "execution_count": 77,
     "metadata": {},
     "output_type": "execute_result"
    },
    {
     "data": {
      "image/png": "[encoded data removed]",
      "text/plain": [
       "<Figure size 2160x360 with 1 Axes>"
      ]
     },
     "metadata": {
      "needs_background": "light"
     },
     "output_type": "display_data"
    }
   ],
   "source": [
    "df_series_state[1]['temperatura_do_ponto_de_orvalho_(c)'].plot( figsize=(30, 5))\n"
   ]
  },
  {
   "cell_type": "code",
   "execution_count": null,
   "metadata": {},
   "outputs": [],
   "source": [
    "# tem função missing no desafio 4\n",
    "\n",
    "import missingno as msno\n",
    "msno.matrix(df)\n",
    "\n",
    "# desafio 4 - analisando correlação com o target\n",
    "df['venda_bruta'].value_counts(normalize = True)\n",
    "\n",
    "# Análise da distribuição dos dados pelos anos\n",
    "\n",
    "df_loja['ano'] = df_loja['data'].dt.year\n",
    "df_loja['mes'] = df_loja['data'].dt.month\n",
    "pd.pivot_table(df_loja,index='mes',columns='ano',values='venda_bruta',aggfunc=np.sum).plot(figsize = (15, 10))"
   ]
  },
  {
   "cell_type": "code",
   "execution_count": null,
   "metadata": {},
   "outputs": [],
   "source": []
  },
  {
   "cell_type": "code",
   "execution_count": null,
   "metadata": {},
   "outputs": [],
   "source": []
  }
 ],
 "metadata": {
  "interpreter": {
   "hash": "ae47ffa2917a11e5be0da76b62766dcef8d4cc4e1f05056e43f5acd4c24318d3"
  },
  "kernelspec": {
   "display_name": "Python 3.8.5 ('base')",
   "language": "python",
   "name": "python3"
  },
  "language_info": {
   "codemirror_mode": {
    "name": "ipython",
    "version": 3
   },
   "file_extension": ".py",
   "mimetype": "text/x-python",
   "name": "python",
   "nbconvert_exporter": "python",
   "pygments_lexer": "ipython3",
   "version": "3.8.5"
  },
  "orig_nbformat": 4
 },
 "nbformat": 4,
 "nbformat_minor": 2
}
