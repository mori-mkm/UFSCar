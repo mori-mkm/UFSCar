{
 "cells": [
  {
   "cell_type": "markdown",
   "metadata": {},
   "source": [
    "# Importação de bibliotecas"
   ]
  },
  {
   "cell_type": "code",
   "execution_count": 1,
   "metadata": {},
   "outputs": [],
   "source": [
    "import pandas as pd\n",
    "import numpy as np\n",
    "import datetime as dt\n",
    "import glob"
   ]
  },
  {
   "cell_type": "markdown",
   "metadata": {},
   "source": [
    "# Importação de dados"
   ]
  },
  {
   "cell_type": "code",
   "execution_count": 3,
   "metadata": {},
   "outputs": [],
   "source": [
    "df_automatica = pd.read_csv('CatalogoEstaçõesAutomáticas.csv',sep=\";\", decimal=\",\")\n",
    "df_automatica['type'] = \"automatica\"\n",
    "df_convencionl = pd.read_csv('CatalogoEstaçõesConvencionais.csv', sep=\";\", decimal=\",\")\n",
    "df_convencionl['type'] = \"convencinal\"\n"
   ]
  },
  {
   "cell_type": "code",
   "execution_count": 4,
   "metadata": {},
   "outputs": [
    {
     "data": {
      "text/html": [
       "<div>\n",
       "<style scoped>\n",
       "    .dataframe tbody tr th:only-of-type {\n",
       "        vertical-align: middle;\n",
       "    }\n",
       "\n",
       "    .dataframe tbody tr th {\n",
       "        vertical-align: top;\n",
       "    }\n",
       "\n",
       "    .dataframe thead th {\n",
       "        text-align: right;\n",
       "    }\n",
       "</style>\n",
       "<table border=\"1\" class=\"dataframe\">\n",
       "  <thead>\n",
       "    <tr style=\"text-align: right;\">\n",
       "      <th></th>\n",
       "      <th>DC_NOME</th>\n",
       "      <th>SG_ESTADO</th>\n",
       "      <th>CD_SITUACAO</th>\n",
       "      <th>VL_LATITUDE</th>\n",
       "      <th>VL_LONGITUDE</th>\n",
       "      <th>VL_ALTITUDE</th>\n",
       "      <th>DT_INICIO_OPERACAO</th>\n",
       "      <th>CD_ESTACAO</th>\n",
       "      <th>type</th>\n",
       "    </tr>\n",
       "  </thead>\n",
       "  <tbody>\n",
       "    <tr>\n",
       "      <th>0</th>\n",
       "      <td>AGUA BRANCA</td>\n",
       "      <td>AL</td>\n",
       "      <td>Operante</td>\n",
       "      <td>-9.264722</td>\n",
       "      <td>-37.938056</td>\n",
       "      <td>603.42</td>\n",
       "      <td>04/05/1928</td>\n",
       "      <td>82989</td>\n",
       "      <td>convencinal</td>\n",
       "    </tr>\n",
       "    <tr>\n",
       "      <th>1</th>\n",
       "      <td>ALAGOINHAS</td>\n",
       "      <td>BA</td>\n",
       "      <td>Operante</td>\n",
       "      <td>-12.148611</td>\n",
       "      <td>-38.425278</td>\n",
       "      <td>129.78</td>\n",
       "      <td>31/12/1930</td>\n",
       "      <td>83249</td>\n",
       "      <td>convencinal</td>\n",
       "    </tr>\n",
       "    <tr>\n",
       "      <th>2</th>\n",
       "      <td>ALTAMIRA</td>\n",
       "      <td>PA</td>\n",
       "      <td>Operante</td>\n",
       "      <td>-3.214167</td>\n",
       "      <td>-52.213056</td>\n",
       "      <td>101.51</td>\n",
       "      <td>23/04/1927</td>\n",
       "      <td>82353</td>\n",
       "      <td>convencinal</td>\n",
       "    </tr>\n",
       "    <tr>\n",
       "      <th>3</th>\n",
       "      <td>ALTO DA BOA VISTA</td>\n",
       "      <td>RJ</td>\n",
       "      <td>Operante</td>\n",
       "      <td>-22.965833</td>\n",
       "      <td>-43.279167</td>\n",
       "      <td>347.10</td>\n",
       "      <td>31/05/1966</td>\n",
       "      <td>83007</td>\n",
       "      <td>convencinal</td>\n",
       "    </tr>\n",
       "    <tr>\n",
       "      <th>4</th>\n",
       "      <td>APODI</td>\n",
       "      <td>RN</td>\n",
       "      <td>Operante</td>\n",
       "      <td>-5.626667</td>\n",
       "      <td>-37.815000</td>\n",
       "      <td>131.37</td>\n",
       "      <td>17/12/1962</td>\n",
       "      <td>82590</td>\n",
       "      <td>convencinal</td>\n",
       "    </tr>\n",
       "    <tr>\n",
       "      <th>...</th>\n",
       "      <td>...</td>\n",
       "      <td>...</td>\n",
       "      <td>...</td>\n",
       "      <td>...</td>\n",
       "      <td>...</td>\n",
       "      <td>...</td>\n",
       "      <td>...</td>\n",
       "      <td>...</td>\n",
       "      <td>...</td>\n",
       "    </tr>\n",
       "    <tr>\n",
       "      <th>727</th>\n",
       "      <td>VITORIA DA CONQUISTA</td>\n",
       "      <td>BA</td>\n",
       "      <td>Operante</td>\n",
       "      <td>-14.886389</td>\n",
       "      <td>-40.801389</td>\n",
       "      <td>879.38</td>\n",
       "      <td>31/05/2007</td>\n",
       "      <td>A414</td>\n",
       "      <td>automatica</td>\n",
       "    </tr>\n",
       "    <tr>\n",
       "      <th>728</th>\n",
       "      <td>VOTUPORANGA</td>\n",
       "      <td>SP</td>\n",
       "      <td>Operante</td>\n",
       "      <td>-20.403333</td>\n",
       "      <td>-49.966111</td>\n",
       "      <td>510.37</td>\n",
       "      <td>03/12/2006</td>\n",
       "      <td>A729</td>\n",
       "      <td>automatica</td>\n",
       "    </tr>\n",
       "    <tr>\n",
       "      <th>729</th>\n",
       "      <td>XANXERE</td>\n",
       "      <td>SC</td>\n",
       "      <td>Operante</td>\n",
       "      <td>-26.938666</td>\n",
       "      <td>-52.398090</td>\n",
       "      <td>878.74</td>\n",
       "      <td>14/03/2008</td>\n",
       "      <td>A858</td>\n",
       "      <td>automatica</td>\n",
       "    </tr>\n",
       "    <tr>\n",
       "      <th>730</th>\n",
       "      <td>XINGUARA</td>\n",
       "      <td>PA</td>\n",
       "      <td>Operante</td>\n",
       "      <td>-7.110518</td>\n",
       "      <td>-49.926072</td>\n",
       "      <td>245.00</td>\n",
       "      <td>10/09/2016</td>\n",
       "      <td>A247</td>\n",
       "      <td>automatica</td>\n",
       "    </tr>\n",
       "    <tr>\n",
       "      <th>731</th>\n",
       "      <td>ZE DOCA</td>\n",
       "      <td>MA</td>\n",
       "      <td>Operante</td>\n",
       "      <td>-3.269167</td>\n",
       "      <td>-45.651111</td>\n",
       "      <td>45.50</td>\n",
       "      <td>17/09/2019</td>\n",
       "      <td>A255</td>\n",
       "      <td>automatica</td>\n",
       "    </tr>\n",
       "  </tbody>\n",
       "</table>\n",
       "<p>732 rows × 9 columns</p>\n",
       "</div>"
      ],
      "text/plain": [
       "                  DC_NOME SG_ESTADO CD_SITUACAO  VL_LATITUDE  VL_LONGITUDE  \\\n",
       "0             AGUA BRANCA        AL    Operante    -9.264722    -37.938056   \n",
       "1              ALAGOINHAS        BA    Operante   -12.148611    -38.425278   \n",
       "2                ALTAMIRA        PA    Operante    -3.214167    -52.213056   \n",
       "3       ALTO DA BOA VISTA        RJ    Operante   -22.965833    -43.279167   \n",
       "4                   APODI        RN    Operante    -5.626667    -37.815000   \n",
       "..                    ...       ...         ...          ...           ...   \n",
       "727  VITORIA DA CONQUISTA        BA    Operante   -14.886389    -40.801389   \n",
       "728           VOTUPORANGA        SP    Operante   -20.403333    -49.966111   \n",
       "729               XANXERE        SC    Operante   -26.938666    -52.398090   \n",
       "730              XINGUARA        PA    Operante    -7.110518    -49.926072   \n",
       "731               ZE DOCA        MA    Operante    -3.269167    -45.651111   \n",
       "\n",
       "     VL_ALTITUDE DT_INICIO_OPERACAO CD_ESTACAO         type  \n",
       "0         603.42         04/05/1928      82989  convencinal  \n",
       "1         129.78         31/12/1930      83249  convencinal  \n",
       "2         101.51         23/04/1927      82353  convencinal  \n",
       "3         347.10         31/05/1966      83007  convencinal  \n",
       "4         131.37         17/12/1962      82590  convencinal  \n",
       "..           ...                ...        ...          ...  \n",
       "727       879.38         31/05/2007       A414   automatica  \n",
       "728       510.37         03/12/2006       A729   automatica  \n",
       "729       878.74         14/03/2008       A858   automatica  \n",
       "730       245.00         10/09/2016       A247   automatica  \n",
       "731        45.50         17/09/2019       A255   automatica  \n",
       "\n",
       "[732 rows x 9 columns]"
      ]
     },
     "execution_count": 4,
     "metadata": {},
     "output_type": "execute_result"
    }
   ],
   "source": [
    "df_estacao = pd.concat([df_convencionl, df_automatica], ignore_index=True, sort=False)\n",
    "df_estacao"
   ]
  },
  {
   "cell_type": "code",
   "execution_count": 5,
   "metadata": {},
   "outputs": [],
   "source": [
    "df_estacao.DT_INICIO_OPERACAO = pd.to_datetime(df_estacao.DT_INICIO_OPERACAO)"
   ]
  },
  {
   "cell_type": "code",
   "execution_count": 6,
   "metadata": {},
   "outputs": [
    {
     "name": "stdout",
     "output_type": "stream",
     "text": [
      "<class 'pandas.core.frame.DataFrame'>\n",
      "RangeIndex: 732 entries, 0 to 731\n",
      "Data columns (total 9 columns):\n",
      " #   Column              Non-Null Count  Dtype         \n",
      "---  ------              --------------  -----         \n",
      " 0   DC_NOME             732 non-null    object        \n",
      " 1   SG_ESTADO           732 non-null    object        \n",
      " 2   CD_SITUACAO         732 non-null    object        \n",
      " 3   VL_LATITUDE         732 non-null    float64       \n",
      " 4   VL_LONGITUDE        732 non-null    float64       \n",
      " 5   VL_ALTITUDE         732 non-null    float64       \n",
      " 6   DT_INICIO_OPERACAO  732 non-null    datetime64[ns]\n",
      " 7   CD_ESTACAO          732 non-null    object        \n",
      " 8   type                732 non-null    object        \n",
      "dtypes: datetime64[ns](1), float64(3), object(5)\n",
      "memory usage: 51.6+ KB\n"
     ]
    }
   ],
   "source": [
    "df_estacao.info()"
   ]
  },
  {
   "cell_type": "markdown",
   "metadata": {},
   "source": [
    "# Algumas informações sobre as estações"
   ]
  },
  {
   "cell_type": "code",
   "execution_count": 7,
   "metadata": {},
   "outputs": [
    {
     "data": {
      "text/plain": [
       "732"
      ]
     },
     "execution_count": 7,
     "metadata": {},
     "output_type": "execute_result"
    }
   ],
   "source": [
    "# Total de estações\n",
    "len(df_estacao)"
   ]
  },
  {
   "cell_type": "code",
   "execution_count": 8,
   "metadata": {},
   "outputs": [
    {
     "data": {
      "text/plain": [
       "Operante    529\n",
       "Pane        203\n",
       "Name: CD_SITUACAO, dtype: int64"
      ]
     },
     "execution_count": 8,
     "metadata": {},
     "output_type": "execute_result"
    }
   ],
   "source": [
    "# Total de estações vs status\n",
    "df_estacao.CD_SITUACAO.value_counts()"
   ]
  },
  {
   "cell_type": "code",
   "execution_count": 9,
   "metadata": {},
   "outputs": [
    {
     "data": {
      "text/plain": [
       "automatica     368\n",
       "convencinal    161\n",
       "Name: type, dtype: int64"
      ]
     },
     "execution_count": 9,
     "metadata": {},
     "output_type": "execute_result"
    }
   ],
   "source": [
    "# Total de estações operantes vs o tipo\n",
    "df_est_op = df_estacao[df_estacao.CD_SITUACAO == 'Operante' ]\n",
    "df_est_op.type.value_counts()\n",
    "df_est_op.type.value_counts()"
   ]
  },
  {
   "cell_type": "code",
   "execution_count": 10,
   "metadata": {},
   "outputs": [
    {
     "data": {
      "text/html": [
       "<div>\n",
       "<style scoped>\n",
       "    .dataframe tbody tr th:only-of-type {\n",
       "        vertical-align: middle;\n",
       "    }\n",
       "\n",
       "    .dataframe tbody tr th {\n",
       "        vertical-align: top;\n",
       "    }\n",
       "\n",
       "    .dataframe thead th {\n",
       "        text-align: right;\n",
       "    }\n",
       "</style>\n",
       "<table border=\"1\" class=\"dataframe\">\n",
       "  <thead>\n",
       "    <tr style=\"text-align: right;\">\n",
       "      <th>type</th>\n",
       "      <th>automatica</th>\n",
       "      <th>convencinal</th>\n",
       "    </tr>\n",
       "    <tr>\n",
       "      <th>CD_SITUACAO</th>\n",
       "      <th></th>\n",
       "      <th></th>\n",
       "    </tr>\n",
       "  </thead>\n",
       "  <tbody>\n",
       "    <tr>\n",
       "      <th>Operante</th>\n",
       "      <td>368.0</td>\n",
       "      <td>161.0</td>\n",
       "    </tr>\n",
       "    <tr>\n",
       "      <th>Pane</th>\n",
       "      <td>203.0</td>\n",
       "      <td>NaN</td>\n",
       "    </tr>\n",
       "  </tbody>\n",
       "</table>\n",
       "</div>"
      ],
      "text/plain": [
       "type         automatica  convencinal\n",
       "CD_SITUACAO                         \n",
       "Operante          368.0        161.0\n",
       "Pane              203.0          NaN"
      ]
     },
     "execution_count": 10,
     "metadata": {},
     "output_type": "execute_result"
    }
   ],
   "source": [
    "# Quantidade de estações pelo tipo e status\n",
    "pivot_est = pd.pivot_table(df_estacao, values='DC_NOME', index=['CD_SITUACAO'],columns=['type'], aggfunc=len)\n",
    "pivot_est"
   ]
  },
  {
   "cell_type": "code",
   "execution_count": null,
   "metadata": {},
   "outputs": [],
   "source": []
  },
  {
   "cell_type": "code",
   "execution_count": null,
   "metadata": {},
   "outputs": [],
   "source": []
  },
  {
   "cell_type": "code",
   "execution_count": null,
   "metadata": {},
   "outputs": [],
   "source": []
  }
 ],
 "metadata": {
  "kernelspec": {
   "display_name": "Python 3.9.7 64-bit",
   "language": "python",
   "name": "python3"
  },
  "language_info": {
   "codemirror_mode": {
    "name": "ipython",
    "version": 3
   },
   "file_extension": ".py",
   "mimetype": "text/x-python",
   "name": "python",
   "nbconvert_exporter": "python",
   "pygments_lexer": "ipython3",
   "version": "3.9.7"
  },
  "orig_nbformat": 4,
  "vscode": {
   "interpreter": {
    "hash": "2cc27af6e045b4adfd120a39028c24099298a136545eda4119cb2ce9bbd22f47"
   }
  }
 },
 "nbformat": 4,
 "nbformat_minor": 2
}
