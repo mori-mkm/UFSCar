{
 "cells": [
  {
   "cell_type": "markdown",
   "metadata": {},
   "source": [
    "# Importando dados do INMET"
   ]
  },
  {
   "cell_type": "code",
   "execution_count": 2,
   "metadata": {},
   "outputs": [],
   "source": [
    "import csv\n",
    "import pandas as pd\n",
    "import numpy as np\n",
    "import datetime as dt\n",
    "import glob"
   ]
  },
  {
   "cell_type": "code",
   "execution_count": 3,
   "metadata": {},
   "outputs": [],
   "source": [
    "# Importando todos os CSVs \n",
    "anos = range(2000,2021)\n",
    "\n",
    "# Coletando todos os nomes e caminhos dos arquivos em CSV das séries\n",
    "csv_lista = []\n",
    "for i in anos:\n",
    "    csv_lista.append(glob.glob(\"C:/Users/MKM/OneDrive/Área de Trabalho/UFSCAR/TCC/dados/{}/*.csv\".format(i)))\n",
    "lista_csv = [item for sublist in csv_lista for item in sublist]\n"
   ]
  },
  {
   "cell_type": "code",
   "execution_count": 4,
   "metadata": {},
   "outputs": [],
   "source": [
    "# coletando um unico csv para capturar os nomes de suas colunas\n",
    "series_df_aleatorio = pd.read_csv(lista_csv[300],  encoding='latin-1', sep =';', header = 8, decimal = ',')\n",
    "coluns_names = [var.replace(\" \", \"_\").replace(\",\", \"\").replace(\":\", \"\").replace(\".\", \"\").replace(\"ÇÃO\",\"cao\").replace(\"°\",\"\").replace(\"²\",\"\").lower() for var in series_df_aleatorio.columns]\n"
   ]
  },
  {
   "cell_type": "code",
   "execution_count": null,
   "metadata": {},
   "outputs": [],
   "source": [
    "# Criando uma lista com os dataframes de cada estação e ano\n",
    "df_series = []\n",
    "for u in range(len(lista_csv)):\n",
    "    try:\n",
    "        series_df = pd.read_csv(lista_csv[u],  encoding='latin-1', sep =';', header = 8, decimal = ',')\n",
    "        series_df.columns = coluns_names\n",
    "        series_df.drop(columns = ['hora_(utc)'])\n",
    "        df_series.append(series_df)\n",
    "    except:\n",
    "        pass"
   ]
  },
  {
   "cell_type": "code",
   "execution_count": null,
   "metadata": {},
   "outputs": [],
   "source": [
    "#Coletando as primeiras 8 linhas de cada arquivo csv, pois temos metadados da estação nestas linhas\n",
    "df_meta_data = []\n",
    "for y in range(len(lista_csv)):\n",
    "    with open(lista_csv[y],'r', encoding='latin-1') as fd:\n",
    "        reader=csv.reader(fd)\n",
    "        rows = list(reader)\n",
    "    # Para cada csv criamos um dataframe de das 8 primeiras linhas\n",
    "    meta_data = []\n",
    "    for j in range(0,8):\n",
    "        meta_data.append(rows[j][0].split(';'))\n",
    "    df_meta_data.append(pd.DataFrame(meta_data, columns=['metricas','resultados']))\n"
   ]
  },
  {
   "cell_type": "code",
   "execution_count": null,
   "metadata": {},
   "outputs": [],
   "source": [
    "# Agora retiramos apenas os valores de cada variavel dos metadados e colocamos em uma lista\n",
    "for p in range(len(df_meta_data)):\n",
    "    df_meta_data[p] = df_meta_data[p].resultados\n",
    "    \n",
    "# Aqui estamos criando tres colunas em cada dataframe de dados de uma estação por cada ano com a sigla do seu estados_df estado, cidade e o id da estação\n",
    "for e in range(len(df_series)):\n",
    "    df_series[e]['estado'] = df_meta_data[e][1]\n",
    "    df_series[e]['cidade'] = df_meta_data[e][2]\n",
    "    df_series[e]['estacao_id'] = df_meta_data[e][3]\n",
    "\n",
    "coluns_names = coluns_names + ['estado', 'cidade', 'estacao_id']\n",
    "coluns_names.remove('hora_(utc)') "
   ]
  },
  {
   "cell_type": "code",
   "execution_count": null,
   "metadata": {},
   "outputs": [],
   "source": [
    "\n",
    "# Neste looping estamos coletando todas as siglas de estados que temos nos dataframes\n",
    "estados = []\n",
    "for q in range(len(df_meta_data)):\n",
    "    estados.append(df_meta_data[q][1])\n",
    "estados = list(set(estados))\n",
    "estados.sort()\n",
    "\n",
    "\n",
    "# Mas neste outro processo estamos coletando qual é a sigla do estado e o index dela na lista de dataframes\n",
    "estados_df = pd.DataFrame(index=np.arange(len(df_series)) , columns = ['estados', 'indice', 'id_estacao'])\n",
    "for w in range(len(df_series)):\n",
    "    estados_df['estados'].iloc[w] = df_series[w]['estado'].iloc[0]\n",
    "    estados_df['indice'].iloc[w] = w\n",
    "    estados_df['id_estacao'].iloc[w] = df_series[w]['estacao_id'].iloc[0]\n"
   ]
  },
  {
   "cell_type": "code",
   "execution_count": null,
   "metadata": {},
   "outputs": [],
   "source": [
    "# Criando uma lista de dataframes por estado, onde todos os dados de todas as estações por estado se encontram em cada casa da lista\n",
    "df_series_state = []\n",
    "for x in range(len(estados)):\n",
    "    df_series_state.append(pd.concat([df_series[l] for l in estados_df[estados_df.estados == estados[x]].indice.to_list()], names =coluns_names ))\n",
    "    \n",
    "# Transformando as data de cada dataframe em datetime. Além de criar para cada estado um dataframe com a média de temperatura entre as suas respectivas estações por dia \n",
    "for k in range(len(df_series_state)):\n",
    "    df_series_state[k]['data_(yyyy-mm-dd)'] = df_series_state[k]['data_(yyyy-mm-dd)'].replace(regex='/', value = '-')\n",
    "    df_series_state[k]['data_(yyyy-mm-dd)'] = pd.to_datetime(df_series_state[k]['data_(yyyy-mm-dd)'], format = '%Y-%m-%d')\n",
    "    df_series_state[k] = df_series_state[k].replace(-9999, np.nan)\n",
    "    df_series_state[k] = df_series_state[k].groupby('data_(yyyy-mm-dd)').mean().sort_values(by = ['data_(yyyy-mm-dd)'], ascending=True)\n",
    "    df_series_state[k] = df_series_state[k].drop(columns = ['unnamed_19'])\n"
   ]
  },
  {
   "cell_type": "code",
   "execution_count": null,
   "metadata": {},
   "outputs": [],
   "source": [
    "for t in range(len(df_series_state)):\n",
    "    df_series_state[t].to_csv('C:/Users/MKM/OneDrive/Área de Trabalho/EAD 2021/TCC/dados_agregados/inmet_{}.csv'.format(estados[t]), index=True)"
   ]
  }
 ],
 "metadata": {
  "kernelspec": {
   "display_name": "Python 3.9.7 64-bit",
   "language": "python",
   "name": "python3"
  },
  "language_info": {
   "codemirror_mode": {
    "name": "ipython",
    "version": 3
   },
   "file_extension": ".py",
   "mimetype": "text/x-python",
   "name": "python",
   "nbconvert_exporter": "python",
   "pygments_lexer": "ipython3",
   "version": "3.9.7"
  },
  "orig_nbformat": 4,
  "vscode": {
   "interpreter": {
    "hash": "2cc27af6e045b4adfd120a39028c24099298a136545eda4119cb2ce9bbd22f47"
   }
  }
 },
 "nbformat": 4,
 "nbformat_minor": 2
}
