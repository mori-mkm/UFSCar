{
  "nbformat": 4,
  "nbformat_minor": 0,
  "metadata": {
    "colab": {
      "name": "simulacao_binomial_normal.ipynb",
      "provenance": [],
      "authorship_tag": "ABX9TyN+IBTrBfP/yFFMYlqrLoDe",
      "include_colab_link": true
    },
    "kernelspec": {
      "name": "python3",
      "display_name": "Python 3"
    },
    "language_info": {
      "name": "python"
    }
  },
  "cells": [
    {
      "cell_type": "markdown",
      "metadata": {
        "id": "view-in-github",
        "colab_type": "text"
      },
      "source": [
        "<a href=\"https://colab.research.google.com/github/mori-mkm/UFSCar/blob/main/nao_parametrica/simulacao/simulacao_binomial_normal.ipynb\" target=\"_parent\"><img src=\"https://colab.research.google.com/assets/colab-badge.svg\" alt=\"Open In Colab\"/></a>"
      ]
    },
    {
      "cell_type": "markdown",
      "source": [
        "# simulacao_binomial_normal"
      ],
      "metadata": {
        "id": "ac8-gglNB-En"
      }
    },
    {
      "cell_type": "code",
      "execution_count": null,
      "metadata": {
        "id": "ViLzxWfv3Rf3",
        "colab": {
          "base_uri": "https://localhost:8080/"
        },
        "outputId": "a8b3c46e-d5e5-4193-f673-58ad530c05ff"
      },
      "outputs": [
        {
          "output_type": "execute_result",
          "data": {
            "text/plain": [
              "array([1, 0, 1, 0, 0])"
            ]
          },
          "metadata": {},
          "execution_count": 3
        }
      ],
      "source": [
        "from scipy import stats\n",
        "\n",
        "stats.binom_test(5, n=8, p=0.4, alternative='less')\n",
        "\n",
        "stats.binom_test(5, n=8, p=0.4, alternative='greater')\n",
        "\n",
        "stats.binom_test(5, n=8, p=0.4, alternative='two-sided')"
      ]
    },
    {
      "cell_type": "code",
      "source": [
        "from scipy import stats\n",
        "\n",
        "#fixando o valor de p\n",
        "p_ = 0.5\n",
        "n = 5\n",
        "amostra_5 = stats.binom.rvs(n,size = 8, p = p_)\n",
        "print(amostra_5)"
      ],
      "metadata": {
        "colab": {
          "base_uri": "https://localhost:8080/"
        },
        "id": "1R_zS-VP8SiF",
        "outputId": "b9348bc9-2380-4698-9bc7-09fc3b1aa0e4"
      },
      "execution_count": null,
      "outputs": [
        {
          "output_type": "stream",
          "name": "stdout",
          "text": [
            "[2 4 2 3 4 2 1 1]\n"
          ]
        }
      ]
    },
    {
      "cell_type": "code",
      "source": [
        "stats.binom_test(n, n=8, p=0.5, alternative='two-sided')"
      ],
      "metadata": {
        "id": "uUkCCK_L9jfB",
        "colab": {
          "base_uri": "https://localhost:8080/"
        },
        "outputId": "634e0134-c145-4892-e027-00c11e577fb8"
      },
      "execution_count": null,
      "outputs": [
        {
          "output_type": "execute_result",
          "data": {
            "text/plain": [
              "0.7265625000000002"
            ]
          },
          "metadata": {},
          "execution_count": 40
        }
      ]
    },
    {
      "cell_type": "code",
      "source": [
        "k2, p = stats.normaltest(amostra_5)\n",
        "print(\"valor-p = {:g}\".format(p))"
      ],
      "metadata": {
        "colab": {
          "base_uri": "https://localhost:8080/"
        },
        "id": "PCwRc2PpGChS",
        "outputId": "512b8e48-135d-429e-cd40-68e795359e3c"
      },
      "execution_count": null,
      "outputs": [
        {
          "output_type": "stream",
          "name": "stdout",
          "text": [
            "valor-p = 0.603467\n"
          ]
        },
        {
          "output_type": "stream",
          "name": "stderr",
          "text": [
            "/usr/local/lib/python3.7/dist-packages/scipy/stats/stats.py:1535: UserWarning: kurtosistest only valid for n>=20 ... continuing anyway, n=8\n",
            "  \"anyway, n=%i\" % int(n))\n"
          ]
        }
      ]
    },
    {
      "cell_type": "code",
      "source": [
        "from numpy import random\n",
        "import matplotlib.pyplot as plt\n",
        "import seaborn as sns\n",
        "\n",
        "sns.distplot(random.normal(loc=50, scale=5, size=1000), hist=False, label='normal')\n",
        "sns.distplot(random.binomial(n=100, p=0.5, size=1000), hist=False, label='binomial')\n",
        "\n",
        "plt.show()"
      ],
      "metadata": {
        "colab": {
          "base_uri": "https://localhost:8080/",
          "height": 358
        },
        "id": "LCnojZVtIIRO",
        "outputId": "baa3f496-ab70-47f0-9019-8b1b5f59d10f"
      },
      "execution_count": null,
      "outputs": [
        {
          "output_type": "stream",
          "name": "stderr",
          "text": [
            "/usr/local/lib/python3.7/dist-packages/seaborn/distributions.py:2619: FutureWarning: `distplot` is a deprecated function and will be removed in a future version. Please adapt your code to use either `displot` (a figure-level function with similar flexibility) or `kdeplot` (an axes-level function for kernel density plots).\n",
            "  warnings.warn(msg, FutureWarning)\n",
            "/usr/local/lib/python3.7/dist-packages/seaborn/distributions.py:2619: FutureWarning: `distplot` is a deprecated function and will be removed in a future version. Please adapt your code to use either `displot` (a figure-level function with similar flexibility) or `kdeplot` (an axes-level function for kernel density plots).\n",
            "  warnings.warn(msg, FutureWarning)\n"
          ]
        },
        {
          "output_type": "display_data",
          "data": {
            "image/png": "[encoded data removed]",
            "text/plain": [
              "<Figure size 432x288 with 1 Axes>"
            ]
          },
          "metadata": {
            "needs_background": "light"
          }
        }
      ]
    },
    {
      "cell_type": "code",
      "source": [
        ""
      ],
      "metadata": {
        "id": "6STMlDurKvcW"
      },
      "execution_count": null,
      "outputs": []
    }
  ]
}