{
  "nbformat": 4,
  "nbformat_minor": 0,
  "metadata": {
    "colab": {
      "name": "Exemplo_Aula13.ipynb",
      "provenance": [],
      "authorship_tag": "ABX9TyOOjN5nd8vLugxaZvPOwFSj",
      "include_colab_link": true
    },
    "kernelspec": {
      "name": "python3",
      "display_name": "Python 3"
    },
    "language_info": {
      "name": "python"
    }
  },
  "cells": [
    {
      "cell_type": "markdown",
      "metadata": {
        "id": "view-in-github",
        "colab_type": "text"
      },
      "source": [
        "<a href=\"https://colab.research.google.com/github/mori-mkm/UFSCar/blob/main/PAE/ANCOVA/Exemplo_Aula13.ipynb\" target=\"_parent\"><img src=\"https://colab.research.google.com/assets/colab-badge.svg\" alt=\"Open In Colab\"/></a>"
      ]
    },
    {
      "cell_type": "markdown",
      "metadata": {
        "id": "2MoQnq8Dl9cy"
      },
      "source": [
        "## Importando as bibliotecas"
      ]
    },
    {
      "cell_type": "code",
      "metadata": {
        "id": "8tjvqiqH1VyU"
      },
      "source": [
        "import pandas as pd\n",
        "import numpy as np\n",
        "from statsmodels.formula.api import ols\n",
        "from statsmodels.stats.anova import anova_lm\n",
        "\n",
        "import seaborn as sns"
      ],
      "execution_count": 12,
      "outputs": []
    },
    {
      "cell_type": "markdown",
      "metadata": {
        "id": "70Dl3WPBmAVg"
      },
      "source": [
        "## Criando o banco de dados"
      ]
    },
    {
      "cell_type": "code",
      "metadata": {
        "id": "xweTt3tG4Khz"
      },
      "source": [
        "tratamento = pd.Series(np.concatenate((pd.Series(np.zeros(5)).replace(0,1),\n",
        "                                       pd.Series(np.zeros(5)).replace(0, 2),\n",
        "                                       pd.Series(np.zeros(5)).replace(0, 3)),\n",
        "                                      axis=None), name= \"tratamento\")\n",
        "y = pd.Series([36,41,39,42,49,40,48,39,45,44,35,37,42,34,32], name = \"y\")\n",
        "x = pd.Series([20,25,24,25,32,22,28,22,30,28,21,23,26,21,15], name = \"x\")\n"
      ],
      "execution_count": 9,
      "outputs": []
    },
    {
      "cell_type": "code",
      "metadata": {
        "colab": {
          "base_uri": "https://localhost:8080/",
          "height": 205
        },
        "id": "CyJvMaG-5wQj",
        "outputId": "e9d1efda-e39d-4dc8-c742-13227392ea7d"
      },
      "source": [
        "df = pd.concat([tratamento, y, x], axis=1)\n",
        "df.tratamento = df.tratamento.astype(int)\n",
        "df.head()"
      ],
      "execution_count": 11,
      "outputs": [
        {
          "output_type": "execute_result",
          "data": {
            "text/html": [
              "<div>\n",
              "<style scoped>\n",
              "    .dataframe tbody tr th:only-of-type {\n",
              "        vertical-align: middle;\n",
              "    }\n",
              "\n",
              "    .dataframe tbody tr th {\n",
              "        vertical-align: top;\n",
              "    }\n",
              "\n",
              "    .dataframe thead th {\n",
              "        text-align: right;\n",
              "    }\n",
              "</style>\n",
              "<table border=\"1\" class=\"dataframe\">\n",
              "  <thead>\n",
              "    <tr style=\"text-align: right;\">\n",
              "      <th></th>\n",
              "      <th>tratamento</th>\n",
              "      <th>y</th>\n",
              "      <th>x</th>\n",
              "    </tr>\n",
              "  </thead>\n",
              "  <tbody>\n",
              "    <tr>\n",
              "      <th>0</th>\n",
              "      <td>1</td>\n",
              "      <td>36</td>\n",
              "      <td>20</td>\n",
              "    </tr>\n",
              "    <tr>\n",
              "      <th>1</th>\n",
              "      <td>1</td>\n",
              "      <td>41</td>\n",
              "      <td>25</td>\n",
              "    </tr>\n",
              "    <tr>\n",
              "      <th>2</th>\n",
              "      <td>1</td>\n",
              "      <td>39</td>\n",
              "      <td>24</td>\n",
              "    </tr>\n",
              "    <tr>\n",
              "      <th>3</th>\n",
              "      <td>1</td>\n",
              "      <td>42</td>\n",
              "      <td>25</td>\n",
              "    </tr>\n",
              "    <tr>\n",
              "      <th>4</th>\n",
              "      <td>1</td>\n",
              "      <td>49</td>\n",
              "      <td>32</td>\n",
              "    </tr>\n",
              "  </tbody>\n",
              "</table>\n",
              "</div>"
            ],
            "text/plain": [
              "   tratamento   y   x\n",
              "0           1  36  20\n",
              "1           1  41  25\n",
              "2           1  39  24\n",
              "3           1  42  25\n",
              "4           1  49  32"
            ]
          },
          "metadata": {},
          "execution_count": 11
        }
      ]
    },
    {
      "cell_type": "markdown",
      "metadata": {
        "id": "aPRAAF1nO59X"
      },
      "source": [
        "## Gráfico de disperssão dos dados x vs y"
      ]
    },
    {
      "cell_type": "code",
      "metadata": {
        "colab": {
          "base_uri": "https://localhost:8080/",
          "height": 297
        },
        "id": "s_dwC6yO6dkU",
        "outputId": "6d03f8dc-9ec5-4cd4-877f-e9b1b4f3f604"
      },
      "source": [
        "sns.scatterplot(data=df, x=\"x\", y=\"y\", hue=\"tratamento\", palette = \"viridis\", s = 100)"
      ],
      "execution_count": 17,
      "outputs": [
        {
          "output_type": "execute_result",
          "data": {
            "text/plain": [
              "<matplotlib.axes._subplots.AxesSubplot at 0x7f7f44d2b350>"
            ]
          },
          "metadata": {},
          "execution_count": 17
        },
        {
          "output_type": "display_data",
          "data": {
            "image/png": "[encoded data removed]",
            "text/plain": [
              "<Figure size 432x288 with 1 Axes>"
            ]
          },
          "metadata": {
            "needs_background": "light"
          }
        }
      ]
    },
    {
      "cell_type": "markdown",
      "metadata": {
        "id": "5_ta-2AYTlq2"
      },
      "source": [
        "## Gráfico Boxplot tratamento vs y"
      ]
    },
    {
      "cell_type": "code",
      "metadata": {
        "colab": {
          "base_uri": "https://localhost:8080/",
          "height": 297
        },
        "id": "NuqBXoJoTE8C",
        "outputId": "fb421a43-1a0c-42ad-b4ea-7622114bfc2a"
      },
      "source": [
        "sns.boxplot(x=\"tratamento\", y=\"y\", palette = \"viridis\", data=df)"
      ],
      "execution_count": 112,
      "outputs": [
        {
          "output_type": "execute_result",
          "data": {
            "text/plain": [
              "<matplotlib.axes._subplots.AxesSubplot at 0x7f7f3bf25b90>"
            ]
          },
          "metadata": {},
          "execution_count": 112
        },
        {
          "output_type": "display_data",
          "data": {
            "image/png": "[encoded data removed]",
            "text/plain": [
              "<Figure size 432x288 with 1 Axes>"
            ]
          },
          "metadata": {
            "needs_background": "light"
          }
        }
      ]
    },
    {
      "cell_type": "markdown",
      "metadata": {
        "id": "Iq4uzMWgmF0j"
      },
      "source": [
        "## Matriz de planejamento do modelo completo"
      ]
    },
    {
      "cell_type": "code",
      "metadata": {
        "colab": {
          "base_uri": "https://localhost:8080/"
        },
        "id": "Vx4VG79R7nr-",
        "outputId": "ebc9d71f-e122-4e0a-f47d-7b1067f109bc"
      },
      "source": [
        "X_plan = pd.DataFrame(data={ \"1\": pd.Series(np.zeros(len(df))).replace(0,1).astype(int),\n",
        "                             \"2\": pd.Series(np.concatenate((pd.Series(np.zeros(5)).replace(0, 1), pd.Series(np.zeros(5)), pd.Series(np.zeros(5)).replace(0, -1)), axis = None)).astype(int),\n",
        "                             \"3\": pd.Series(np.concatenate((pd.Series(np.zeros(5)),pd.Series(np.zeros(5)).replace(0, 1), pd.Series(np.zeros(5)).replace(0, -1)), axis = None)).astype(int),\n",
        "                             \"4\":(df.x - df.x.mean())})\n",
        "                         \n",
        "X_plan = X_plan.to_numpy()\n",
        "print(\"X_plan\")\n",
        "print(X_plan)\n",
        "y_matrix = y.to_numpy().reshape((len(y), 1))\n",
        "print(\"\")\n",
        "print(\"y_matrix\")\n",
        "print(y_matrix)"
      ],
      "execution_count": 79,
      "outputs": [
        {
          "output_type": "stream",
          "name": "stdout",
          "text": [
            "X_plan\n",
            "[[ 1.          1.          0.         -4.13333333]\n",
            " [ 1.          1.          0.          0.86666667]\n",
            " [ 1.          1.          0.         -0.13333333]\n",
            " [ 1.          1.          0.          0.86666667]\n",
            " [ 1.          1.          0.          7.86666667]\n",
            " [ 1.          0.          1.         -2.13333333]\n",
            " [ 1.          0.          1.          3.86666667]\n",
            " [ 1.          0.          1.         -2.13333333]\n",
            " [ 1.          0.          1.          5.86666667]\n",
            " [ 1.          0.          1.          3.86666667]\n",
            " [ 1.         -1.         -1.         -3.13333333]\n",
            " [ 1.         -1.         -1.         -1.13333333]\n",
            " [ 1.         -1.         -1.          1.86666667]\n",
            " [ 1.         -1.         -1.         -3.13333333]\n",
            " [ 1.         -1.         -1.         -9.13333333]]\n",
            "\n",
            "y_matrix\n",
            "[[36]\n",
            " [41]\n",
            " [39]\n",
            " [42]\n",
            " [49]\n",
            " [40]\n",
            " [48]\n",
            " [39]\n",
            " [45]\n",
            " [44]\n",
            " [35]\n",
            " [37]\n",
            " [42]\n",
            " [34]\n",
            " [32]]\n"
          ]
        }
      ]
    },
    {
      "cell_type": "markdown",
      "metadata": {
        "id": "AoINIxYBQlGV"
      },
      "source": [
        "## Estimação dos parametros"
      ]
    },
    {
      "cell_type": "code",
      "metadata": {
        "colab": {
          "base_uri": "https://localhost:8080/"
        },
        "id": "Ani_I1hGG4fc",
        "outputId": "f4d848b7-1afd-4ff5-8f88-39705ec7fa74"
      },
      "source": [
        "# Existem três maneiras diferentes de se calcular produtos de matrizes\n",
        "theta_c = np.dot(np.dot(np.linalg.inv(np.dot(X_plan.transpose(), X_plan)), X_plan.transpose()), y_matrix) # 1ª com o comando dot\n",
        "theta_c = np.matmul(np.matmul(np.linalg.inv(np.matmul(X_plan.transpose(), X_plan)), X_plan.transpose()), y_matrix) # 2ª com o comando matmult\n",
        "theta_c = np.linalg.inv(X_plan.transpose() @ X_plan) @ X_plan.transpose() @ y_matrix # 3ª usando o \"@\" como operador de multiplicação matricial\n",
        "print(\"theta_c\")\n",
        "print(theta_c)\n",
        "\n",
        "print(\"\")\n",
        "print(\"Média de y\")\n",
        "print(y.mean())"
      ],
      "execution_count": 85,
      "outputs": [
        {
          "output_type": "stream",
          "name": "stdout",
          "text": [
            "theta_c\n",
            "[[40.2       ]\n",
            " [ 0.18241309]\n",
            " [ 1.2192229 ]\n",
            " [ 0.95398773]]\n",
            "\n",
            "Média de y\n",
            "40.2\n"
          ]
        }
      ]
    },
    {
      "cell_type": "markdown",
      "metadata": {
        "id": "P7I71ZzjPsRt"
      },
      "source": [
        "### Soma dos erros ao quadrado [Modelo completo]"
      ]
    },
    {
      "cell_type": "code",
      "metadata": {
        "colab": {
          "base_uri": "https://localhost:8080/"
        },
        "id": "uYO1vcHeNVmc",
        "outputId": "716bd3b8-4559-4d50-a127-c194e256a3a4"
      },
      "source": [
        "pred_c = X_plan @ theta_c\n",
        "SQE_c  = sum((y_matrix - pred_c)**2)\n",
        "print(\"SQE\")\n",
        "print(SQE_c)"
      ],
      "execution_count": 97,
      "outputs": [
        {
          "output_type": "stream",
          "name": "stdout",
          "text": [
            "SQE\n",
            "[27.98588957]\n"
          ]
        }
      ]
    },
    {
      "cell_type": "markdown",
      "metadata": {
        "id": "ySZtl7GfOzbO"
      },
      "source": [
        "## Matriz de planejamento do modelo reduzido"
      ]
    },
    {
      "cell_type": "code",
      "metadata": {
        "colab": {
          "base_uri": "https://localhost:8080/"
        },
        "id": "DU8G3UPWOT2K",
        "outputId": "663acdf3-01b2-4f8c-febb-c64325110ab0"
      },
      "source": [
        "X_plan_r = pd.DataFrame(data={ \"1\": pd.Series(np.zeros(len(df))).replace(0,1).astype(int),\n",
        "                             \"4\":(df.x - df.x.mean())})\n",
        "                         \n",
        "X_plan_r = X_plan_r.to_numpy()\n",
        "print(\"X_plan_r\")\n",
        "print(X_plan_r)"
      ],
      "execution_count": 99,
      "outputs": [
        {
          "output_type": "stream",
          "name": "stdout",
          "text": [
            "X_plan_r\n",
            "[[ 1.         -4.13333333]\n",
            " [ 1.          0.86666667]\n",
            " [ 1.         -0.13333333]\n",
            " [ 1.          0.86666667]\n",
            " [ 1.          7.86666667]\n",
            " [ 1.         -2.13333333]\n",
            " [ 1.          3.86666667]\n",
            " [ 1.         -2.13333333]\n",
            " [ 1.          5.86666667]\n",
            " [ 1.          3.86666667]\n",
            " [ 1.         -3.13333333]\n",
            " [ 1.         -1.13333333]\n",
            " [ 1.          1.86666667]\n",
            " [ 1.         -3.13333333]\n",
            " [ 1.         -9.13333333]]\n"
          ]
        }
      ]
    },
    {
      "cell_type": "markdown",
      "metadata": {
        "id": "Q8H2Swk3QrFX"
      },
      "source": [
        "## Estimação dos parametros"
      ]
    },
    {
      "cell_type": "code",
      "metadata": {
        "colab": {
          "base_uri": "https://localhost:8080/"
        },
        "id": "a0doS2b7PETN",
        "outputId": "ace57616-5255-4030-949f-022a0be780c1"
      },
      "source": [
        "theta_r = np.linalg.inv(X_plan_r.transpose() @ X_plan_r) @ X_plan_r.transpose() @ y_matrix \n",
        "print(\"theta_r\")\n",
        "print(theta_r)\n",
        "\n",
        "print(\"\")\n",
        "print(\"Média de y\")\n",
        "print(y.mean())"
      ],
      "execution_count": 100,
      "outputs": [
        {
          "output_type": "stream",
          "name": "stdout",
          "text": [
            "theta_r\n",
            "[[40.2       ]\n",
            " [ 1.07972491]]\n",
            "\n",
            "Média de y\n",
            "40.2\n"
          ]
        }
      ]
    },
    {
      "cell_type": "markdown",
      "metadata": {
        "id": "MPbJdW0uP0d3"
      },
      "source": [
        "### Soma dos erros ao quadrado [Modelo reduzido]"
      ]
    },
    {
      "cell_type": "code",
      "metadata": {
        "colab": {
          "base_uri": "https://localhost:8080/"
        },
        "id": "QSWv3o54PdHq",
        "outputId": "2f896821-3a93-45d6-fd78-0d05cebf4857"
      },
      "source": [
        "pred_r = X_plan_r @ theta_r\n",
        "SQE_r  = sum((y_matrix - pred_r)**2)\n",
        "print(\"SQE\")\n",
        "print(SQE_r)"
      ],
      "execution_count": 101,
      "outputs": [
        {
          "output_type": "stream",
          "name": "stdout",
          "text": [
            "SQE\n",
            "[41.26974019]\n"
          ]
        }
      ]
    },
    {
      "cell_type": "markdown",
      "metadata": {
        "id": "HbNghs4PQAY8"
      },
      "source": [
        "## Comparação dos SQE entre os dois modelos"
      ]
    },
    {
      "cell_type": "code",
      "metadata": {
        "colab": {
          "base_uri": "https://localhost:8080/"
        },
        "id": "-eDuzDfBQEhO",
        "outputId": "8771578a-2e58-4b78-ba7c-0c3c130dfdc1"
      },
      "source": [
        "\n",
        "print(\"SQE modelo reduzido = {}\".format(SQE_r))\n",
        "print(\"\")\n",
        "print(\"SQE modelo completo = {}\".format(SQE_c))\n"
      ],
      "execution_count": 102,
      "outputs": [
        {
          "output_type": "stream",
          "name": "stdout",
          "text": [
            "SQE modelo reduzido = [41.26974019]\n",
            "\n",
            "SQE modelo completo = [27.98588957]\n"
          ]
        }
      ]
    },
    {
      "cell_type": "markdown",
      "metadata": {
        "id": "dcBRby7wQYez"
      },
      "source": [
        ">> Modelo completo traz menos redíduos que o reduzido"
      ]
    },
    {
      "cell_type": "markdown",
      "metadata": {
        "id": "-Ky4jk-4RJx5"
      },
      "source": [
        "## Estatistica do teste"
      ]
    },
    {
      "cell_type": "code",
      "metadata": {
        "id": "0nx0HCjuRI76"
      },
      "source": [
        "from scipy.stats import f"
      ],
      "execution_count": 103,
      "outputs": []
    },
    {
      "cell_type": "code",
      "metadata": {
        "colab": {
          "base_uri": "https://localhost:8080/"
        },
        "id": "lJsKU3CvRJd4",
        "outputId": "7feb4c7a-2272-47c2-8de0-61a4a2eeb2a9"
      },
      "source": [
        "f_c = f.ppf(q=1-0.05, dfn=2, dfd=11)\n",
        "f_r = f.ppf(q=1-0.05, dfn=2, dfd=13)\n",
        "\n",
        "print(\"Estatistica F do modelo completo = {}\".format(round(f_c,3)))\n",
        "print(\"\")\n",
        "print(\"Estatistica F do modelo reduzudi = {}\".format(round(f_r,3)))"
      ],
      "execution_count": 107,
      "outputs": [
        {
          "output_type": "stream",
          "name": "stdout",
          "text": [
            "Estatistica F do modelo completo = 3.982\n",
            "\n",
            "Estatistica F do modelo reduzudi = 3.806\n"
          ]
        }
      ]
    }
  ]
}