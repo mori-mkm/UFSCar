{
  "nbformat": 4,
  "nbformat_minor": 0,
  "metadata": {
    "colab": {
      "name": "exemplo_competicao_vinho.ipynb",
      "provenance": [],
      "authorship_tag": "ABX9TyNVFJ8k5OBNEI2zE54BwMeq",
      "include_colab_link": true
    },
    "kernelspec": {
      "name": "python3",
      "display_name": "Python 3"
    },
    "language_info": {
      "name": "python"
    }
  },
  "cells": [
    {
      "cell_type": "markdown",
      "metadata": {
        "id": "view-in-github",
        "colab_type": "text"
      },
      "source": [
        "<a href=\"https://colab.research.google.com/github/mori-mkm/UFSCar/blob/main/PAE/Tukey%E2%80%99s%20Test/exemplo_competicao_vinho.ipynb\" target=\"_parent\"><img src=\"https://colab.research.google.com/assets/colab-badge.svg\" alt=\"Open In Colab\"/></a>"
      ]
    },
    {
      "cell_type": "markdown",
      "metadata": {
        "id": "IhxGQ6syx7PF"
      },
      "source": [
        "#Importando as bibliotecas"
      ]
    },
    {
      "cell_type": "markdown",
      "metadata": {
        "id": "qqb48EUQyQww"
      },
      "source": [
        "Primeiro, vamos carregar os pacotes e funções necessários em Python:"
      ]
    },
    {
      "cell_type": "code",
      "metadata": {
        "colab": {
          "base_uri": "https://localhost:8080/"
        },
        "id": "AnQxA3EfvMUD",
        "outputId": "e91c1a88-ca32-48b5-e2e0-f02ed9dbde0a"
      },
      "source": [
        "import pandas as pd\n",
        "import numpy as np\n",
        "from scipy.stats import f_oneway\n",
        "from statsmodels.stats.multicomp import pairwise_tukeyhsd"
      ],
      "execution_count": 1,
      "outputs": [
        {
          "output_type": "stream",
          "name": "stderr",
          "text": [
            "/usr/local/lib/python3.7/dist-packages/statsmodels/tools/_testing.py:19: FutureWarning: pandas.util.testing is deprecated. Use the functions in the public API at pandas.testing instead.\n",
            "  import pandas.util.testing as tm\n"
          ]
        }
      ]
    },
    {
      "cell_type": "markdown",
      "metadata": {
        "id": "ErYqsuf-x-7u"
      },
      "source": [
        "# Inserindo os dados e ajustando o modelo"
      ]
    },
    {
      "cell_type": "markdown",
      "metadata": {
        "id": "e1DaOaXEyU0K"
      },
      "source": [
        "O código a seguir mostra como criar um conjunto com quatro grupos (A, B, C e D) e ajustar um modelo ANOVA unilateral aos dados para determinar se os valores médios de cada grupo são iguais:"
      ]
    },
    {
      "cell_type": "code",
      "metadata": {
        "colab": {
          "base_uri": "https://localhost:8080/"
        },
        "id": "mKWATQzGwWCP",
        "outputId": "f69d43cb-6685-4fbe-90e0-9183eb6ac4e3"
      },
      "source": [
        "#enter data for three groups\n",
        "a = [20,\t15,\t18,\t26,\t22,\t19]\n",
        "b = [24,\t18,\t19,\t26,\t24,\t21]\n",
        "c = [28,\t23,\t24,\t30,\t28,\t27]\n",
        "d = [28,\t24,\t23,\t30,\t26,\t25]\n",
        "#perform one-way ANOVA\n",
        "f_oneway(a, b, c, d)\n"
      ],
      "execution_count": 4,
      "outputs": [
        {
          "output_type": "execute_result",
          "data": {
            "text/plain": [
              "F_onewayResult(statistic=6.478873239436619, pvalue=0.0030548164401503638)"
            ]
          },
          "metadata": {},
          "execution_count": 4
        }
      ]
    },
    {
      "cell_type": "markdown",
      "metadata": {
        "id": "f2Q4tcTIyeXp"
      },
      "source": [
        "Podemos ver que o valor-p da tabela ANOVA é 0.003055.\n",
        "\n",
        "Como isso é menor que 0,05, temos evidências suficientes para dizer que os valores médios em cada grupo não são iguais.\n",
        "\n",
        "Assim, podemos prosseguir para realizar o Teste de Tukey para determinar exatamente quais médias de grupo são diferentes."
      ]
    },
    {
      "cell_type": "markdown",
      "metadata": {
        "id": "U6O38BhjyHDL"
      },
      "source": [
        "# Teste de Tukey"
      ]
    },
    {
      "cell_type": "markdown",
      "metadata": {
        "id": "Z62iVfvfyugp"
      },
      "source": [
        "Para realizar o teste de Tukey em Python, podemos usar a função **pairwise_tukeyhsd()** da biblioteca statsmodels:"
      ]
    },
    {
      "cell_type": "code",
      "metadata": {
        "colab": {
          "base_uri": "https://localhost:8080/"
        },
        "id": "D7MR8UjXxO8N",
        "outputId": "f17215db-a061-4617-8eec-bd7225bdfc2f"
      },
      "source": [
        "#create DataFrame to hold data\n",
        "df = pd.DataFrame({'score': [20,\t15,\t18,\t26,\t22,\t19,\n",
        "                             24,\t18,\t19,\t26,\t24,\t21,\n",
        "                             28,\t23,\t24,\t30,\t28,\t27,\n",
        "                             28,\t24,\t23,\t30,\t26,\t25],\n",
        "                   'group': np.repeat(['a', 'b', 'c', \"d\"], repeats=6)}) \n",
        "\n",
        "# perform Tukey's test\n",
        "tukey = pairwise_tukeyhsd(endog=df['score'],\n",
        "                          groups=df['group'],\n",
        "                          alpha=0.05)\n",
        "\n",
        "#display results\n",
        "print(tukey)"
      ],
      "execution_count": 5,
      "outputs": [
        {
          "output_type": "stream",
          "name": "stdout",
          "text": [
            "Multiple Comparison of Means - Tukey HSD, FWER=0.05 \n",
            "====================================================\n",
            "group1 group2 meandiff p-adj   lower   upper  reject\n",
            "----------------------------------------------------\n",
            "     a      b      2.0 0.6623 -2.9722  6.9722  False\n",
            "     a      c   6.6667 0.0063  1.6944 11.6389   True\n",
            "     a      d      6.0 0.0146  1.0278 10.9722   True\n",
            "     b      c   4.6667 0.0707 -0.3056  9.6389  False\n",
            "     b      d      4.0 0.1435 -0.9722  8.9722  False\n",
            "     c      d  -0.6667    0.9 -5.6389  4.3056  False\n",
            "----------------------------------------------------\n"
          ]
        }
      ]
    },
    {
      "cell_type": "markdown",
      "metadata": {
        "id": "xnXyOYLXy0Os"
      },
      "source": [
        "Veja como interpretar o resultado:\n",
        "\n",
        "* Valor-P para a diferença de médias entre a e b: 0.662\n",
        "\n",
        "* Valor-P para a diferença de médias entre a e c: 0.0063  \n",
        "\n",
        "* Valor-P para a diferença de médias entre a e d: 0.0146   \n",
        "\n",
        "* Valor-P para a diferença nas médias entre b e c: 0.0707\n",
        "\n",
        "* Valor-P para a diferença nas médias entre b e d: 0.1435\n",
        "\n",
        "* Valor-P para a diferença nas médias entre c e d:  0.9\n",
        "\n",
        "Assim, poderíamos concluir que existe uma diferença estatisticamente significativa entre as médias dos grupos a e c; a e d; b e c. Mas não uma diferença estatisticamente significativa entre as médias dos grupos a e b; b e d; c e d."
      ]
    }
  ]
}