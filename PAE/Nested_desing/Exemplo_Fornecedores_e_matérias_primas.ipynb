{
  "nbformat": 4,
  "nbformat_minor": 0,
  "metadata": {
    "colab": {
      "name": "Exemplo_Fornecedores_e_matérias_primas.ipynb",
      "provenance": [],
      "authorship_tag": "ABX9TyMn0rvwv40j1t96E0kkvzk+",
      "include_colab_link": true
    },
    "kernelspec": {
      "name": "python3",
      "display_name": "Python 3"
    },
    "language_info": {
      "name": "python"
    }
  },
  "cells": [
    {
      "cell_type": "markdown",
      "metadata": {
        "id": "view-in-github",
        "colab_type": "text"
      },
      "source": [
        "<a href=\"https://colab.research.google.com/github/mori-mkm/UFSCar/blob/main/PAE/Nested_desing/Exemplo_Fornecedores_e_mat%C3%A9rias_primas.ipynb\" target=\"_parent\"><img src=\"https://colab.research.google.com/assets/colab-badge.svg\" alt=\"Open In Colab\"/></a>"
      ]
    },
    {
      "cell_type": "code",
      "metadata": {
        "id": "8tjvqiqH1VyU"
      },
      "source": [
        "import pandas as pd\n",
        "import numpy as np"
      ],
      "execution_count": 1,
      "outputs": []
    },
    {
      "cell_type": "code",
      "metadata": {
        "id": "QJPsY7hq1ZEi"
      },
      "source": [
        "pureza = pd.Series([1,-1,0,-2,-3,-4,-2,0,1,1,4,0,1,-2,-3,0,4,2,-1,0,-2,0,3,2,2,4,0,-2,0,2,1,-1,2,3,2,1])\n",
        "fornecedo = np.concatenate((pd.Series(np.zeros(12)).replace(0, \"A\")  ,pd.Series(np.zeros(12)).replace(0, \"B\"),pd.Series(np.zeros(12)).replace(0, \"C\")), axis=None)\n",
        "linha = np.concatenate((pd.Series(np.zeros(3)).replace(0,1) ,pd.Series(np.zeros(3)).replace(0,2),\n",
        "                        pd.Series(np.zeros(3)).replace(0, 3) , pd.Series(np.zeros(3)).replace(0, 4),pd.Series([3])), axis=None)"
      ],
      "execution_count": 13,
      "outputs": []
    },
    {
      "cell_type": "code",
      "metadata": {
        "id": "CTX1IPE13cEJ"
      },
      "source": [
        "mu = pureza.mean()\n",
        "tau = np.concatenate((pureza[0:12].mean()-mu, pureza[12:24].mean()-mu, pureza[24:36].mean()-mu), axis=None)\n",
        "beta1 = np.concatenate((pureza[0:3].mean() - pureza[0:12].mean(), pureza[3:7].mean() - pureza[0:12].mean(), pureza[7:9].mean() - pureza[0:12].mean(),  pureza[9:12].mean() -  pureza[0:12].mean()), axis=None)\n",
        "beta2 = np.concatenate((pureza[12:15].mean() - pureza[12:24].mean(), pureza[15:18].mean() - pureza[12:24].mean(), pureza[18:21].mean() - pureza[12:24].mean(),  pureza[21:24].mean() - pureza[12:24].mean()), axis=None)\n",
        "beta3 = np.concatenate((pureza[24:27].mean() - pureza[24:36].mean(), pureza[27:30].mean() - pureza[24:36].mean(), pureza[30:33].mean() - pureza[24:36].mean(),  pureza[33:36].mean() - pureza[24:36].mean()), axis=None)\n"
      ],
      "execution_count": 30,
      "outputs": []
    },
    {
      "cell_type": "code",
      "metadata": {
        "colab": {
          "base_uri": "https://localhost:8080/"
        },
        "id": "YJyqiQHeI0bn",
        "outputId": "fd607f03-4aed-4d53-e9fa-3b1a0c39d285"
      },
      "source": [
        "np.concatenate((mu,tau,beta1,beta2,beta3), axis=None)"
      ],
      "execution_count": 32,
      "outputs": [
        {
          "output_type": "execute_result",
          "data": {
            "text/plain": [
              "array([ 0.36111111, -0.77777778, -0.02777778,  0.80555556,  0.41666667,\n",
              "       -2.33333333,  0.91666667,  2.08333333, -1.66666667,  1.66666667,\n",
              "       -1.33333333,  1.33333333,  0.83333333, -1.16666667, -0.5       ,\n",
              "        0.83333333])"
            ]
          },
          "metadata": {},
          "execution_count": 32
        }
      ]
    }
  ]
}