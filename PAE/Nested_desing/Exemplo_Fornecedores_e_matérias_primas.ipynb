{
  "nbformat": 4,
  "nbformat_minor": 0,
  "metadata": {
    "colab": {
      "name": "Exemplo_Fornecedores_e_matérias_primas.ipynb",
      "provenance": [],
      "authorship_tag": "ABX9TyMgkQpKAkqu2u5qQHPBzTMe",
      "include_colab_link": true
    },
    "kernelspec": {
      "name": "python3",
      "display_name": "Python 3"
    },
    "language_info": {
      "name": "python"
    }
  },
  "cells": [
    {
      "cell_type": "markdown",
      "metadata": {
        "id": "view-in-github",
        "colab_type": "text"
      },
      "source": [
        "<a href=\"https://colab.research.google.com/github/mori-mkm/UFSCar/blob/main/PAE/Nested_desing/Exemplo_Fornecedores_e_mat%C3%A9rias_primas.ipynb\" target=\"_parent\"><img src=\"https://colab.research.google.com/assets/colab-badge.svg\" alt=\"Open In Colab\"/></a>"
      ]
    },
    {
      "cell_type": "code",
      "metadata": {
        "id": "8tjvqiqH1VyU"
      },
      "source": [
        "import pandas as pd\n",
        "import numpy as np"
      ],
      "execution_count": 1,
      "outputs": []
    },
    {
      "cell_type": "code",
      "metadata": {
        "colab": {
          "base_uri": "https://localhost:8080/"
        },
        "id": "QJPsY7hq1ZEi",
        "outputId": "fc0055fa-9551-432d-d9b8-5aabbff3f25d"
      },
      "source": [
        "pureza = [1,-1,0,-2,-3,-4,-2,0,1,1,4,0,1,-2,-3,0,4,2,-1,0,-2,0,3,2,2,4,0,-2,0,2,1,-1,2,3,2,1]\n",
        "fornecedo = np.concatenate((pd.Series(np.zeros(12)).replace(0, \"A\")  ,pd.Series(np.zeros(12)).replace(0, \"B\"),pd.Series(np.zeros(12)).replace(0, \"C\")), axis=None)\n",
        "linha = np.concatenate((pd.Series(np.zeros(3)).replace(0,1) ,pd.Series(np.zeros(3)).replace(0,2),\n",
        "                        pd.Series(np.zeros(3)).replace(0, 3) , pd.Series(np.zeros(3)).replace(0, 4),pd.Series([3])), axis=None)\n",
        "print(pureza)\n",
        "print(fornecedo)\n",
        "print(linha)\n"
      ],
      "execution_count": 4,
      "outputs": [
        {
          "output_type": "stream",
          "name": "stdout",
          "text": [
            "[1, -1, 0, -2, -3, -4, -2, 0, 1, 1, 4, 0, 1, -2, -3, 0, 4, 2, -1, 0, -2, 0, 3, 2, 2, 4, 0, -2, 0, 2, 1, -1, 2, 3, 2, 1]\n",
            "['A' 'A' 'A' 'A' 'A' 'A' 'A' 'A' 'A' 'A' 'A' 'A' 'B' 'B' 'B' 'B' 'B' 'B'\n",
            " 'B' 'B' 'B' 'B' 'B' 'B' 'C' 'C' 'C' 'C' 'C' 'C' 'C' 'C' 'C' 'C' 'C' 'C']\n",
            "[1. 1. 1. 2. 2. 2. 3. 3. 3. 4. 4. 4. 3.]\n"
          ]
        }
      ]
    },
    {
      "cell_type": "code",
      "metadata": {
        "id": "CTX1IPE13cEJ"
      },
      "source": [
        ""
      ],
      "execution_count": null,
      "outputs": []
    }
  ]
}