{
  "nbformat": 4,
  "nbformat_minor": 0,
  "metadata": {
    "colab": {
      "name": "Exemplo_Fornecedores_e_matérias_primas.ipynb",
      "provenance": [],
      "authorship_tag": "ABX9TyMpY6WNpLp+SdjqNdupYsFv",
      "include_colab_link": true
    },
    "kernelspec": {
      "name": "python3",
      "display_name": "Python 3"
    },
    "language_info": {
      "name": "python"
    }
  },
  "cells": [
    {
      "cell_type": "markdown",
      "metadata": {
        "id": "view-in-github",
        "colab_type": "text"
      },
      "source": [
        "<a href=\"https://colab.research.google.com/github/mori-mkm/UFSCar/blob/main/PAE/Nested_desing/Exemplo_Fornecedores_e_mat%C3%A9rias_primas.ipynb\" target=\"_parent\"><img src=\"https://colab.research.google.com/assets/colab-badge.svg\" alt=\"Open In Colab\"/></a>"
      ]
    },
    {
      "cell_type": "markdown",
      "metadata": {
        "id": "2MoQnq8Dl9cy"
      },
      "source": [
        "# Importando as bibliotecas"
      ]
    },
    {
      "cell_type": "code",
      "metadata": {
        "id": "8tjvqiqH1VyU"
      },
      "source": [
        "import pandas as pd\n",
        "import numpy as np\n",
        "from statsmodels.formula.api import ols\n",
        "from statsmodels.stats.anova import anova_lm"
      ],
      "execution_count": 54,
      "outputs": []
    },
    {
      "cell_type": "markdown",
      "metadata": {
        "id": "70Dl3WPBmAVg"
      },
      "source": [
        "# Criando o banco de dados"
      ]
    },
    {
      "cell_type": "code",
      "metadata": {
        "id": "QJPsY7hq1ZEi"
      },
      "source": [
        "pureza = pd.Series([1,-1,0,-2,-3,-4,-2,0,1,1,4,0,1,-2,-3,0,4,2,-1,0,-2,0,3,2,2,4,0,-2,0,2,1,-1,2,3,2,1], name= \"pureza\")\n",
        "fornecedo = pd.Series(np.concatenate((pd.Series(np.zeros(12)).replace(0, \"A\")  ,pd.Series(np.zeros(12)).replace(0, \"B\"),\n",
        "                                      pd.Series(np.zeros(12)).replace(0, \"C\")), axis=None), name= \"fornecedor\")\n",
        "linha = np.concatenate((pd.Series(np.zeros(3)).replace(0,1) ,pd.Series(np.zeros(3)).replace(0,2),\n",
        "                        pd.Series(np.zeros(3)).replace(0, 3) , pd.Series(np.zeros(3)).replace(0, 4)), axis=None)\n",
        "linha = pd.Series(np.concatenate((linha,linha,linha),axis= None), name= \"linha\") \n"
      ],
      "execution_count": 43,
      "outputs": []
    },
    {
      "cell_type": "code",
      "metadata": {
        "id": "-lw30D-wc2qw",
        "colab": {
          "base_uri": "https://localhost:8080/",
          "height": 205
        },
        "outputId": "a98b74f5-d9c5-456e-f897-a096fca97b82"
      },
      "source": [
        "df = pd.concat([pureza, fornecedo, linha], axis=1)\n",
        "df.linha = df.linha.astype(int)\n",
        "df.head()"
      ],
      "execution_count": 57,
      "outputs": [
        {
          "output_type": "execute_result",
          "data": {
            "text/html": [
              "<div>\n",
              "<style scoped>\n",
              "    .dataframe tbody tr th:only-of-type {\n",
              "        vertical-align: middle;\n",
              "    }\n",
              "\n",
              "    .dataframe tbody tr th {\n",
              "        vertical-align: top;\n",
              "    }\n",
              "\n",
              "    .dataframe thead th {\n",
              "        text-align: right;\n",
              "    }\n",
              "</style>\n",
              "<table border=\"1\" class=\"dataframe\">\n",
              "  <thead>\n",
              "    <tr style=\"text-align: right;\">\n",
              "      <th></th>\n",
              "      <th>pureza</th>\n",
              "      <th>fornecedor</th>\n",
              "      <th>linha</th>\n",
              "    </tr>\n",
              "  </thead>\n",
              "  <tbody>\n",
              "    <tr>\n",
              "      <th>0</th>\n",
              "      <td>1</td>\n",
              "      <td>A</td>\n",
              "      <td>1</td>\n",
              "    </tr>\n",
              "    <tr>\n",
              "      <th>1</th>\n",
              "      <td>-1</td>\n",
              "      <td>A</td>\n",
              "      <td>1</td>\n",
              "    </tr>\n",
              "    <tr>\n",
              "      <th>2</th>\n",
              "      <td>0</td>\n",
              "      <td>A</td>\n",
              "      <td>1</td>\n",
              "    </tr>\n",
              "    <tr>\n",
              "      <th>3</th>\n",
              "      <td>-2</td>\n",
              "      <td>A</td>\n",
              "      <td>2</td>\n",
              "    </tr>\n",
              "    <tr>\n",
              "      <th>4</th>\n",
              "      <td>-3</td>\n",
              "      <td>A</td>\n",
              "      <td>2</td>\n",
              "    </tr>\n",
              "  </tbody>\n",
              "</table>\n",
              "</div>"
            ],
            "text/plain": [
              "   pureza fornecedor  linha\n",
              "0       1          A      1\n",
              "1      -1          A      1\n",
              "2       0          A      1\n",
              "3      -2          A      2\n",
              "4      -3          A      2"
            ]
          },
          "metadata": {},
          "execution_count": 57
        }
      ]
    },
    {
      "cell_type": "markdown",
      "metadata": {
        "id": "N8Zy4OHKmCxG"
      },
      "source": [
        "# Estimação dos parametros"
      ]
    },
    {
      "cell_type": "code",
      "metadata": {
        "id": "CTX1IPE13cEJ"
      },
      "source": [
        "mu = pureza.mean()\n",
        "tau = np.concatenate((pureza[0:12].mean()-mu, pureza[12:24].mean()-mu, pureza[24:36].mean()-mu), axis=None)\n",
        "beta1 = np.concatenate((pureza[0:3].mean() - pureza[0:12].mean(), pureza[3:7].mean() - pureza[0:12].mean(), pureza[7:9].mean() - pureza[0:12].mean(),  pureza[9:12].mean() -  pureza[0:12].mean()), axis=None)\n",
        "beta2 = np.concatenate((pureza[12:15].mean() - pureza[12:24].mean(), pureza[15:18].mean() - pureza[12:24].mean(), pureza[18:21].mean() - pureza[12:24].mean(),  pureza[21:24].mean() - pureza[12:24].mean()), axis=None)\n",
        "beta3 = np.concatenate((pureza[24:27].mean() - pureza[24:36].mean(), pureza[27:30].mean() - pureza[24:36].mean(), pureza[30:33].mean() - pureza[24:36].mean(),  pureza[33:36].mean() - pureza[24:36].mean()), axis=None)\n"
      ],
      "execution_count": 58,
      "outputs": []
    },
    {
      "cell_type": "code",
      "metadata": {
        "colab": {
          "base_uri": "https://localhost:8080/"
        },
        "id": "YJyqiQHeI0bn",
        "outputId": "fd607f03-4aed-4d53-e9fa-3b1a0c39d285"
      },
      "source": [
        "np.concatenate((mu,tau,beta1,beta2,beta3), axis=None)"
      ],
      "execution_count": null,
      "outputs": [
        {
          "output_type": "execute_result",
          "data": {
            "text/plain": [
              "array([ 0.36111111, -0.77777778, -0.02777778,  0.80555556,  0.41666667,\n",
              "       -2.33333333,  0.91666667,  2.08333333, -1.66666667,  1.66666667,\n",
              "       -1.33333333,  1.33333333,  0.83333333, -1.16666667, -0.5       ,\n",
              "        0.83333333])"
            ]
          },
          "metadata": {},
          "execution_count": 32
        }
      ]
    },
    {
      "cell_type": "markdown",
      "metadata": {
        "id": "Iq4uzMWgmF0j"
      },
      "source": [
        "# Modelo"
      ]
    },
    {
      "cell_type": "code",
      "metadata": {
        "id": "1Rhe4v_EVaLs",
        "colab": {
          "base_uri": "https://localhost:8080/"
        },
        "outputId": "81e885d0-58f8-43eb-f40d-301d4cde619e"
      },
      "source": [
        "model = ols(\"pureza ~ fornecedo/linha\", data= df).fit()\n",
        "\n",
        "anova_results = anova_lm(model,typ=2)\n",
        "print('\\nANOVA results')\n",
        "print(anova_results)"
      ],
      "execution_count": 74,
      "outputs": [
        {
          "output_type": "stream",
          "name": "stdout",
          "text": [
            "\n",
            "ANOVA results\n",
            "                     sum_sq    df         F    PR(>F)\n",
            "fornecedo         15.055556   2.0  1.898291  0.167389\n",
            "fornecedo:linha   14.283333   3.0  1.200616  0.326396\n",
            "Residual         118.966667  30.0       NaN       NaN\n"
          ]
        }
      ]
    },
    {
      "cell_type": "code",
      "metadata": {
        "id": "ymAZHNz2nDqk"
      },
      "source": [
        ""
      ],
      "execution_count": null,
      "outputs": []
    }
  ]
}