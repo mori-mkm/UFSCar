{
  "nbformat": 4,
  "nbformat_minor": 0,
  "metadata": {
    "colab": {
      "name": "exemplo_crianças_deficiência_crescimento.ipynb",
      "provenance": [],
      "authorship_tag": "ABX9TyOcadUX41c06DKB17ehpnN9",
      "include_colab_link": true
    },
    "kernelspec": {
      "name": "python3",
      "display_name": "Python 3"
    },
    "language_info": {
      "name": "python"
    }
  },
  "cells": [
    {
      "cell_type": "markdown",
      "metadata": {
        "id": "view-in-github",
        "colab_type": "text"
      },
      "source": [
        "<a href=\"https://colab.research.google.com/github/mori-mkm/UFSCar/blob/main/PAE/ANOVA/exemplo_crian%C3%A7as_defici%C3%AAncia_crescimento.ipynb\" target=\"_parent\"><img src=\"https://colab.research.google.com/assets/colab-badge.svg\" alt=\"Open In Colab\"/></a>"
      ]
    },
    {
      "cell_type": "markdown",
      "metadata": {
        "id": "VIrMK0C8oZam"
      },
      "source": [
        "#Exemplo das notas de aula\n"
      ]
    },
    {
      "cell_type": "markdown",
      "metadata": {
        "id": "yldSejSHociP"
      },
      "source": [
        "## Importando as bibliotecas"
      ]
    },
    {
      "cell_type": "code",
      "metadata": {
        "colab": {
          "base_uri": "https://localhost:8080/"
        },
        "id": "DmNLALTojnhD",
        "outputId": "414078a0-2ffb-462c-ff34-dc4398b6c0a3"
      },
      "source": [
        "import pandas as pd\n",
        "import numpy as np\n",
        "\n",
        "import matplotlib.pyplot as plt\n",
        "from statsmodels.graphics.factorplots import interaction_plot\n"
      ],
      "execution_count": 20,
      "outputs": [
        {
          "output_type": "stream",
          "name": "stderr",
          "text": [
            "/usr/local/lib/python3.7/dist-packages/statsmodels/tools/_testing.py:19: FutureWarning: pandas.util.testing is deprecated. Use the functions in the public API at pandas.testing instead.\n",
            "  import pandas.util.testing as tm\n"
          ]
        }
      ]
    },
    {
      "cell_type": "markdown",
      "metadata": {
        "id": "8PMIfH9Iohs5"
      },
      "source": [
        "## Criando o banco de dados"
      ]
    },
    {
      "cell_type": "code",
      "metadata": {
        "colab": {
          "base_uri": "https://localhost:8080/"
        },
        "id": "9nwUC8awj56J",
        "outputId": "647de3a0-f954-417a-89ce-f00df490aa8f"
      },
      "source": [
        "dif = [1.4,2.4,2.2,2.1,1.7,0.7,1.1,2.4,2.5,1.8,2.0,0.5,0.9,1.3]\n",
        "genero = np.concatenate((pd.Series(np.zeros(7)).replace(0, \"Masc\")  ,pd.Series(np.zeros(7)).replace(0, \"Fem\")), axis=None)\n",
        "desen = np.concatenate((pd.Series(np.zeros(3)).replace(0, \"Severo\") ,pd.Series(np.zeros(2)).replace(0, \"Moderado\"),\n",
        "                        pd.Series(np.zeros(2)).replace(0, \"Leve\")  ,pd.Series([\"Severo\"]), \n",
        "                        pd.Series(np.zeros(3)).replace(0, \"Moderado\"),pd.Series(np.zeros(3)).replace(0, \"Leve\")), axis=None)\n",
        "print(dif)\n",
        "print(genero)\n",
        "print(desen)\n"
      ],
      "execution_count": 19,
      "outputs": [
        {
          "output_type": "stream",
          "name": "stdout",
          "text": [
            "[1.4, 2.4, 2.2, 2.1, 1.7, 0.7, 1.1, 2.4, 2.5, 1.8, 2.0, 0.5, 0.9, 1.3]\n",
            "['Masc' 'Masc' 'Masc' 'Masc' 'Masc' 'Masc' 'Masc' 'Fem' 'Fem' 'Fem' 'Fem'\n",
            " 'Fem' 'Fem' 'Fem']\n",
            "['Severo' 'Severo' 'Severo' 'Moderado' 'Moderado' 'Leve' 'Leve' 'Severo'\n",
            " 'Moderado' 'Moderado' 'Moderado' 'Leve' 'Leve' 'Leve']\n"
          ]
        }
      ]
    },
    {
      "cell_type": "code",
      "metadata": {
        "colab": {
          "base_uri": "https://localhost:8080/",
          "height": 278
        },
        "id": "4YlBl7JhpTaO",
        "outputId": "df7c8c3c-a3f5-4844-c4cd-68599cb0b492"
      },
      "source": [
        "f = interaction_plot( desen,genero , dif )"
      ],
      "execution_count": 24,
      "outputs": [
        {
          "output_type": "display_data",
          "data": {
            "image/png": "[encoded data removed]",
            "text/plain": [
              "<Figure size 432x288 with 1 Axes>"
            ]
          },
          "metadata": {
            "needs_background": "light"
          }
        }
      ]
    },
    {
      "cell_type": "markdown",
      "metadata": {
        "id": "YYnFiVnjonJ8"
      },
      "source": [
        "##Matriz de planejamento do modelo completo"
      ]
    },
    {
      "cell_type": "code",
      "metadata": {
        "colab": {
          "base_uri": "https://localhost:8080/"
        },
        "id": "sKLelNKJinYQ",
        "outputId": "123b2a8d-a6a6-4294-865d-0c2d806eb401"
      },
      "source": [
        "\n",
        "X = np.array([[1,1,1,0,1,0],\n",
        "     [1,1,1,0,1,0],\n",
        "     [1,1,1,0,1,0],\n",
        "     [1,1,0,1,0,1],\n",
        "     [1,1,0,1,0,1],\n",
        "     [1,1,-1,-1,-1,-1],\n",
        "     [1,1,-1,-1,-1,-1],\n",
        "     [1,-1,1,0,-1,0],\n",
        "     [1,-1,0,1,0,-1],\n",
        "     [1,-1,0,1,0,-1],\n",
        "     [1,-1,0,1,0,-1],\n",
        "     [1,-1,-1,-1,1,1],\n",
        "     [1,-1,-1,-1,1,1],\n",
        "     [1,-1,-1,-1,1,1]])\n",
        "type(X)"
      ],
      "execution_count": 6,
      "outputs": [
        {
          "output_type": "execute_result",
          "data": {
            "text/plain": [
              "numpy.ndarray"
            ]
          },
          "metadata": {},
          "execution_count": 6
        }
      ]
    },
    {
      "cell_type": "code",
      "metadata": {
        "id": "AvnpOl1ui566"
      },
      "source": [
        ""
      ],
      "execution_count": null,
      "outputs": []
    }
  ]
}