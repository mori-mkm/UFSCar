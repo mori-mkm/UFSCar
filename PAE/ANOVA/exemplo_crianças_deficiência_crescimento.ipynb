{
  "nbformat": 4,
  "nbformat_minor": 0,
  "metadata": {
    "colab": {
      "name": "exemplo das crianças com deficiência de crescimento.ipynb",
      "provenance": [],
      "authorship_tag": "ABX9TyOpHfZJqvyZY7smJzW7V7Jf",
      "include_colab_link": true
    },
    "kernelspec": {
      "name": "python3",
      "display_name": "Python 3"
    },
    "language_info": {
      "name": "python"
    }
  },
  "cells": [
    {
      "cell_type": "markdown",
      "metadata": {
        "id": "view-in-github",
        "colab_type": "text"
      },
      "source": [
        "<a href=\"https://colab.research.google.com/github/mori-mkm/UFSCar/blob/main/PAE/ANOVA/exemplo_crian%C3%A7as_defici%C3%AAncia_crescimento.ipynb\" target=\"_parent\"><img src=\"https://colab.research.google.com/assets/colab-badge.svg\" alt=\"Open In Colab\"/></a>"
      ]
    },
    {
      "cell_type": "code",
      "metadata": {
        "id": "DmNLALTojnhD"
      },
      "source": [
        "import pandas as pd\n",
        "import numpy as np\n"
      ],
      "execution_count": 4,
      "outputs": []
    },
    {
      "cell_type": "code",
      "metadata": {
        "colab": {
          "base_uri": "https://localhost:8080/",
          "height": 135
        },
        "id": "9nwUC8awj56J",
        "outputId": "f80d2de9-fb56-4288-b406-8092ba03c512"
      },
      "source": [
        "dif = [1.4,2.4,2.2,2.1,1.7,0.7,1.1,2.4,2.5,1.8,2.0,0.5,0.9,1.3]\n",
        "genero = np.concatenate((pd.Series(np.zeros(7)).replace(0, \"Masc\")  ,pd.Series(np.zeros(7)).replace(0, \"Fem\")), axis=None)\n",
        "desen = np.concatenate(pd.Series(np.zeros(3)).replace(0, \"Severo\") ,pd.Series(np.zeros(2)).replace(0, \"Moderado\"),\n",
        "                        pd.Series(np.zeros(2)).replace(0, \"Leve\")  ,pd.Series([\"Severo\"]), \n",
        "                        pd.Series(np.zeros(3)).replace(0, \"Moderado\"),pd.Series(np.zeros(3)).replace(0, \"Leve\")), axis=None)\n",
        "genero"
      ],
      "execution_count": 16,
      "outputs": [
        {
          "output_type": "error",
          "ename": "SyntaxError",
          "evalue": "ignored",
          "traceback": [
            "\u001b[0;36m  File \u001b[0;32m\"<ipython-input-16-f5e9e5711f3c>\"\u001b[0;36m, line \u001b[0;32m5\u001b[0m\n\u001b[0;31m    pd.Series(np.zeros(3)).replace(0, \"Moderado\"),pd.Series(np.zeros(3)).replace(0, \"Leve\")), axis=None)\u001b[0m\n\u001b[0m                                                                                                       ^\u001b[0m\n\u001b[0;31mSyntaxError\u001b[0m\u001b[0;31m:\u001b[0m invalid syntax\n"
          ]
        }
      ]
    },
    {
      "cell_type": "code",
      "metadata": {
        "colab": {
          "base_uri": "https://localhost:8080/"
        },
        "id": "sKLelNKJinYQ",
        "outputId": "123b2a8d-a6a6-4294-865d-0c2d806eb401"
      },
      "source": [
        "##Matriz de planejamento do modelo completo\n",
        "X = np.array([[1,1,1,0,1,0],\n",
        "     [1,1,1,0,1,0],\n",
        "     [1,1,1,0,1,0],\n",
        "     [1,1,0,1,0,1],\n",
        "     [1,1,0,1,0,1],\n",
        "     [1,1,-1,-1,-1,-1],\n",
        "     [1,1,-1,-1,-1,-1],\n",
        "     [1,-1,1,0,-1,0],\n",
        "     [1,-1,0,1,0,-1],\n",
        "     [1,-1,0,1,0,-1],\n",
        "     [1,-1,0,1,0,-1],\n",
        "     [1,-1,-1,-1,1,1],\n",
        "     [1,-1,-1,-1,1,1],\n",
        "     [1,-1,-1,-1,1,1]])\n",
        "type(X)"
      ],
      "execution_count": 6,
      "outputs": [
        {
          "output_type": "execute_result",
          "data": {
            "text/plain": [
              "numpy.ndarray"
            ]
          },
          "metadata": {},
          "execution_count": 6
        }
      ]
    },
    {
      "cell_type": "code",
      "metadata": {
        "id": "AvnpOl1ui566"
      },
      "source": [
        ""
      ],
      "execution_count": null,
      "outputs": []
    }
  ]
}